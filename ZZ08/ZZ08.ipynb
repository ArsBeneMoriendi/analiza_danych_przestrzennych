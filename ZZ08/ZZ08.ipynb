{
 "cells": [
  {
   "cell_type": "markdown",
   "id": "1b3e5437",
   "metadata": {
    "deletable": false,
    "editable": false,
    "nbgrader": {
     "cell_type": "markdown",
     "checksum": "76a002fd2a641926bf24212e194d1fe0",
     "grade": false,
     "grade_id": "cell-fcd2666579131b77",
     "locked": true,
     "schema_version": 3,
     "solution": false,
     "task": false
    },
    "tags": []
   },
   "source": [
    "# Analiza danych przestrzennych - ćwiczenia laboratoryjne 2024/2025\n",
    "\n",
    "Ten notatnik zalicza się do grupy zestawów zadań, na podstawie których odbywa się zaliczenie ćwiczeń i podlega zwrotowi do oceny w ustalonym na zajęciach terminie.\n",
    "\n",
    "Uwagi i wytyczne ogólne dotyczące uzupełniania i oceny notatnika:\n",
    "- Podczas wykonywania zadań należy korzystać wyłącznie z pakietów zaimportowanych na początku notatnika oraz z pakietów wchodzących w skład standardowej biblioteki Pythona, które można zaimportować samodzielnie we wskazanej komórce notatnika.\n",
    "- Swoje rozwiązania należy wprowadzać wyłącznie w miejce następujących fragmentów kodu:<br/> `# YOUR CODE HERE`<br/> `raise NotImplementedError()`<br/> \n",
    "a odpowiedzi tekstowe w komórkach oznaczonych hasłem:<br/> \n",
    "`YOUR ANSWER HERE`<br/> \n",
    "Nie należy w żaden sposób modyfikować pozostałych fragmentów kodu oraz innych elementów notatnika, w szczególności dodawać lub usuwać komórek oraz zmieniać nazwy pliku.\n",
    "- Jeżeli zestaw zadań wymaga skorzystania z fragmentów kodu opracowanego w ramach wcześniejszych zestawów zadań należy je umieścić we wskazanej komórce notatnika.\n",
    "- Otrzymywane wyniki i odpowiedzi mają być rezultatem wykonania napisanego kodu, odpowiedzi uzupełniane manualnie nie podlegają ocenie.\n",
    "- Zawarte w notatniku automatyczne testy mają charakter poglądowy. Dotyczą one wybranych aspektów zadań i mają na celu wyłapać podstawowe błędy. Przejście przez kod wszystkich testów nie oznacza, że zadanie jest wykonane w całości poprawnie i zostanie ocenione na maksymalną liczbę punktów.\n",
    "- Zadania należy wykonać w taki sposób, aby podczas wykonywania kodu nie zostały wyświetlone żadne ostrzeżenia.\n",
    "- Zadania, które powodują wyświetlenie komunikatu o błędzie przerywającym wykonywanie kodu nie podlegają ocenie.\n",
    "\n",
    "Uwagi i wytyczne ogólne dotyczące wizualizacji wyników:\n",
    "- Wszystkie wykresy powinny być wykonane w jednolitym, przejrzystym i czytelnym stylu, posiadać odpowiednio dobrane proporcje i zakresy wartości osi.\n",
    "- Figury powinny mieć ustawione białe tło, tak, aby niezależnie od ustawień notatnika wszystkie elementy wykresów były dobrze widoczne (domyślnie tło jest przeźroczyste co może powodować problemy w notatnikach z ustawionym ciemnym tłem). Rozmiar poziomy figur nie powinien przekraczać 20 cali.\n",
    "- Wykresy oraz ich osie powinny mieć nadane tytuły. Jeżeli w obrębie figury znajduje się więcej niż jeden wykres to figura również powinna mieć nadany tytuł.\n",
    "- Zakresy osi wykresów przedstawiających rozkłady punktów w przestrzeni powinny być docięte do granic obszaru, na którym został wygenerowany proces punktowy.\n",
    "- Proporcje osi wykresów przedstawiających rozkłady punktów w przestrzeni powinny być dobrane tak, aby wykresy odzwierciedlały rzeczywisty rozkład punktów w przestrzeni. Nie należy osiągać tego efektu manipulując rozmiarem całej figury.\n",
    "\n",
    "Przed odesłaniem zestawu zadań do oceny proszę uzupełnić komórkę z danymi autorów rozwiązania (nazwa zespołu oraz imiona, nazwiska i numery indeksów członków zespołu) oraz upewnić się, że notatnik działa zgodnie z oczekiwaniami. W tym celu należy skorzystać z opcji **Restart Kernel and Run All Cells...** dostępnej na górnej belce notatnika pod symbolem $\\blacktriangleright\\blacktriangleright$."
   ]
  },
  {
   "cell_type": "raw",
   "id": "ad14be5f",
   "metadata": {},
   "source": [
    "Nazwa zespołu:\n",
    "Członkowie:"
   ]
  },
  {
   "cell_type": "markdown",
   "id": "ff097c96",
   "metadata": {
    "deletable": false,
    "editable": false,
    "nbgrader": {
     "cell_type": "markdown",
     "checksum": "eddc8826810e4a6f7bf68319da334bd9",
     "grade": false,
     "grade_id": "cell-109006d425e5cf83",
     "locked": true,
     "schema_version": 3,
     "solution": false,
     "task": false
    },
    "tags": []
   },
   "source": [
    "---"
   ]
  },
  {
   "cell_type": "markdown",
   "id": "09ae627f-7781-432c-92be-054e5c5f19d0",
   "metadata": {
    "deletable": false,
    "editable": false,
    "nbgrader": {
     "cell_type": "markdown",
     "checksum": "e367659684a10dc865f85e090d3fcdaa",
     "grade": false,
     "grade_id": "cell-be413733df21fa86",
     "locked": true,
     "schema_version": 3,
     "solution": false,
     "task": false
    },
    "tags": []
   },
   "source": [
    "## Zestaw zadań 8: Analiza danych przestrzennych z wykorzystaniem dedykowanych pakietów (część 2)"
   ]
  },
  {
   "cell_type": "code",
   "execution_count": null,
   "id": "1d9566ae-0c1b-4f68-9203-c5924a3651ae",
   "metadata": {
    "deletable": false,
    "editable": false,
    "nbgrader": {
     "cell_type": "code",
     "checksum": "1dfdf515b39731a1acb3d496b4360f51",
     "grade": false,
     "grade_id": "cell-baaf088fa7f91aec",
     "locked": true,
     "schema_version": 3,
     "solution": false,
     "task": false
    },
    "tags": []
   },
   "outputs": [],
   "source": [
    "import numpy as np\n",
    "import pandas as pd\n",
    "import scipy as sp\n",
    "import matplotlib as mpl\n",
    "import matplotlib.pyplot as plt\n",
    "import seaborn as sns\n",
    "import geopandas as gpd\n",
    "import contextily as cx"
   ]
  },
  {
   "cell_type": "code",
   "execution_count": null,
   "id": "316bb8bc-c226-49f2-9e30-21fcf0edd040",
   "metadata": {},
   "outputs": [],
   "source": [
    "# Miejsce do importu pakietów wchodzących w skład standardowej biblioteki Pythona oraz ustawienie opcji wykorzystywanych pakietów"
   ]
  },
  {
   "cell_type": "markdown",
   "id": "dd258764-7f79-460d-9c8a-d73de239ec3d",
   "metadata": {
    "deletable": false,
    "editable": false,
    "nbgrader": {
     "cell_type": "markdown",
     "checksum": "847999551ea5ef85c56cbe44973ff72f",
     "grade": false,
     "grade_id": "cell-e347a37874887866",
     "locked": true,
     "schema_version": 3,
     "solution": false,
     "task": false
    },
    "tags": []
   },
   "source": [
    "### Wczytanie danych\n",
    "\n",
    "Załączone do notatnika pliki zawierają dane niezbędne do wykonania zadań. W celu wczytania danych do notatnika umieść pliki w tym samym folderze, w którym znajduje się notatnik."
   ]
  },
  {
   "cell_type": "code",
   "execution_count": null,
   "id": "54c7274b-61c0-4df7-8069-000c3d0830cf",
   "metadata": {
    "deletable": false,
    "editable": false,
    "nbgrader": {
     "cell_type": "code",
     "checksum": "4ea3a8a089c2445ae9907bb733bfb447",
     "grade": false,
     "grade_id": "cell-5c206cab596ffbc4",
     "locked": true,
     "schema_version": 3,
     "solution": false,
     "task": false
    },
    "tags": []
   },
   "outputs": [],
   "source": [
    "# Wczytanie danych\n",
    "wojewodztwa_geometria = gpd.read_file(\"Wojewodztwa_geometria.zip\", encoding=\"utf-8\")\n",
    "wojewodztwa_dane = pd.read_csv(\"Wojewodztwa_dane.csv\", delimiter=\";\", encoding=\"utf-8\")"
   ]
  },
  {
   "cell_type": "markdown",
   "id": "11653a05-5bd0-4169-87cb-e5173bd99c66",
   "metadata": {
    "deletable": false,
    "editable": false,
    "nbgrader": {
     "cell_type": "markdown",
     "checksum": "d7d59e40f54e96b8d0951349b8019ad7",
     "grade": false,
     "grade_id": "cell-3d9b6dc04e7b8e64",
     "locked": true,
     "schema_version": 3,
     "solution": false,
     "task": false
    },
    "tags": []
   },
   "source": [
    "### Zadanie 1: Import i przygotowanie danych (5 pkt)\n",
    "\n",
    "Przygotuj dwie tablice geopandas:\n",
    " - `wojewodztwa` - zawierającą komplet unikalnych kolumn z tablic `wojewodztwa_geometria` i `wojewodztwa_dane`.\n",
    " - `markery` - zawierającą identyczne dane jak tablica `wojewodztwa` za wyjątkiem kolumny \"geometry\", w której zamiast poligonów województw mają się znaleźć ich centroidy.\n",
    "\n",
    "Skonwertuj dane w tablicach do układu odniesienia epsg:3857.\n",
    "\n",
    "Uwagi do wykonania zadania:\n",
    " - Podczas łączenia danych zwróć uwagę, że wiersze w obu tablicach nie są ułożone w tej samej kolejności.\n",
    " - Podczas rozwiązywania zadania przydatne mogą się okazać funkcje i własności: `pandas.DataFrame.sort_values()`, `pandas.DataFrame.reset_index()`, `pandas.DataFrame.columns` ,`pandas.concat()` oraz `geopandas.GeoSeries.centroid`."
   ]
  },
  {
   "cell_type": "code",
   "execution_count": null,
   "id": "1ec93e1d-9486-4e87-a1f2-ebdfdcc82dcc",
   "metadata": {
    "deletable": false,
    "nbgrader": {
     "cell_type": "code",
     "checksum": "91995b9564d0d69ffc6cf79b88b3fdb6",
     "grade": false,
     "grade_id": "cell-9c5827e1303cedf5",
     "locked": false,
     "schema_version": 3,
     "solution": true,
     "task": false
    },
    "tags": []
   },
   "outputs": [],
   "source": [
    "# Województwa\n",
    "# YOUR CODE HERE\n",
    "raise NotImplementedError()"
   ]
  },
  {
   "cell_type": "code",
   "execution_count": null,
   "id": "3ce8bea8-614d-4bff-9969-537890750917",
   "metadata": {
    "deletable": false,
    "nbgrader": {
     "cell_type": "code",
     "checksum": "c05024f81fe14e09cd4e201b2454a326",
     "grade": false,
     "grade_id": "cell-9d56c8243c4eed45",
     "locked": false,
     "schema_version": 3,
     "solution": true,
     "task": false
    },
    "tags": []
   },
   "outputs": [],
   "source": [
    "# Markery\n",
    "# YOUR CODE HERE\n",
    "raise NotImplementedError()"
   ]
  },
  {
   "cell_type": "code",
   "execution_count": null,
   "id": "2352ff55-0a51-4e5a-8840-93532d8f258f",
   "metadata": {
    "deletable": false,
    "editable": false,
    "nbgrader": {
     "cell_type": "code",
     "checksum": "39eda271e003e33c21c8efec186a7f62",
     "grade": true,
     "grade_id": "cell-749fa2b3c9af223d",
     "locked": true,
     "points": 5,
     "schema_version": 3,
     "solution": false,
     "task": false
    },
    "tags": []
   },
   "outputs": [],
   "source": [
    "# Komórka testowa\n",
    "assert type(wojewodztwa) == gpd.geodataframe.GeoDataFrame\n",
    "assert wojewodztwa.shape == (16, 16)\n",
    "assert set(list(wojewodztwa.columns)) == set(['Nazwa', 'geometry', 'Gminy', 'Miasta', 'Miejscowości',\n",
    "                                           'Powierzchnia ogółem [ha]', 'Produkcja energii elektrycznej [GWh]',\n",
    "                                           'Stosunek produkcji energii elektrycznej do zużycia energii elektrycznej [%]',\n",
    "                                           'Udział energii odnawialnej w produkcji energii elektrycznej [%]',\n",
    "                                           'Udział powierzchni gruntów pod wodami w powierzchni ogółem [%]',\n",
    "                                           'Udział powierzchni nieużytków w powierzchni ogółem [%]',\n",
    "                                           'Udział powierzchni terenów mieszkaniowych w powierzchni ogółem [%]',\n",
    "                                           'Udział powierzchni terenów przemysłowych w powierzchni ogółem [%]',\n",
    "                                           'Udział powierzchni terenów rekreacji i wypoczynku w powierzchni ogółem [%]',\n",
    "                                           'Udział powierzchni użytków rolnych w powierzchni ogółem [%]',\n",
    "                                           'Zużycie energii elektrycznej [GWh]'])\n",
    "assert wojewodztwa[wojewodztwa['Nazwa']==\"dolnośląskie\"][\"Powierzchnia ogółem [ha]\"].values[0] == 1994704\n",
    "assert wojewodztwa[wojewodztwa['Nazwa']==\"lubuskie\"][\"Miasta\"].values[0] == 43\n",
    "\n",
    "assert wojewodztwa.crs == \"epsg:3857\"\n",
    "\n",
    "assert type(markery) == gpd.geodataframe.GeoDataFrame\n",
    "assert markery.shape == (16, 16)\n",
    "assert set(list(markery.columns)) == set(['Nazwa', 'geometry', 'Gminy', 'Miasta', 'Miejscowości',\n",
    "                                           'Powierzchnia ogółem [ha]', 'Produkcja energii elektrycznej [GWh]',\n",
    "                                           'Stosunek produkcji energii elektrycznej do zużycia energii elektrycznej [%]',\n",
    "                                           'Udział energii odnawialnej w produkcji energii elektrycznej [%]',\n",
    "                                           'Udział powierzchni gruntów pod wodami w powierzchni ogółem [%]',\n",
    "                                           'Udział powierzchni nieużytków w powierzchni ogółem [%]',\n",
    "                                           'Udział powierzchni terenów mieszkaniowych w powierzchni ogółem [%]',\n",
    "                                           'Udział powierzchni terenów przemysłowych w powierzchni ogółem [%]',\n",
    "                                           'Udział powierzchni terenów rekreacji i wypoczynku w powierzchni ogółem [%]',\n",
    "                                           'Udział powierzchni użytków rolnych w powierzchni ogółem [%]',\n",
    "                                           'Zużycie energii elektrycznej [GWh]'])\n",
    "assert markery[markery['Nazwa']==\"dolnośląskie\"][\"Powierzchnia ogółem [ha]\"].values[0] == 1994704\n",
    "assert markery[markery['Nazwa']==\"lubuskie\"][\"Miasta\"].values[0] == 43\n",
    "\n",
    "assert markery.crs == \"epsg:3857\""
   ]
  },
  {
   "cell_type": "markdown",
   "id": "a6cb4f1a-ca43-4eb2-b32d-2ea5eb047ac4",
   "metadata": {
    "deletable": false,
    "editable": false,
    "nbgrader": {
     "cell_type": "markdown",
     "checksum": "0925678aad79b75e2bcd0ff243d58b07",
     "grade": false,
     "grade_id": "cell-27f57072defef3b8",
     "locked": true,
     "schema_version": 3,
     "solution": false,
     "task": false
    },
    "tags": []
   },
   "source": [
    "### Zadanie 2: Mapa z dodatkową informacją (3 pkt)\n",
    "Korzystając z funkcji pakietu matplotlib oraz funkcji `geopandas.GeoDataFrame.plot()` przygotuj figurę, na której na poligony województw będą nałożone koła, których środek jest zlokalizowany w centroidzie województwa, a wielkość jest uzależniona od liczby miast w obrębie danego województwa. Ustaw parametry wykresu oraz wizualizowanych obiektów (wielkość figury, kolory, grubość linii, wielkość punktów itp.) tak, aby wygenerowana mapa była przejrzysta i czytelna."
   ]
  },
  {
   "cell_type": "code",
   "execution_count": null,
   "id": "2fd0c6bf-a9a3-40ab-b8c2-bae83c809e2d",
   "metadata": {
    "deletable": false,
    "nbgrader": {
     "cell_type": "code",
     "checksum": "02a9485ce262c0e1d881a945c597a52f",
     "grade": true,
     "grade_id": "cell-b6736c2e14f4288c",
     "locked": false,
     "points": 3,
     "schema_version": 3,
     "solution": true,
     "task": false
    },
    "tags": []
   },
   "outputs": [],
   "source": [
    "# YOUR CODE HERE\n",
    "raise NotImplementedError()"
   ]
  },
  {
   "cell_type": "markdown",
   "id": "1a1467f6-2cab-4ba8-9b33-35ef815424ea",
   "metadata": {
    "deletable": false,
    "editable": false,
    "nbgrader": {
     "cell_type": "markdown",
     "checksum": "2ceb9d042754b104a087ffe8e066023c",
     "grade": false,
     "grade_id": "cell-625a546ba20f1906",
     "locked": true,
     "schema_version": 3,
     "solution": false,
     "task": false
    },
    "tags": []
   },
   "source": [
    "### Zadanie 3: Wizualizacja z mapą w tle (3 pkt)\n",
    "\n",
    "Korzystając z funkcji pakietu matplotlib, funkcji `geopandas.GeoDataFrame.plot()` oraz funkcji `contextily.add_basemap()` przygotuj figurę, na której półprzeźroczyste poligony województw będą nałożone na wybraną (i inną niż domyślna) mapę topograficzną. Ustaw parametry wykresu oraz wizualizowanych obiektów (wielkość figury, kolory, grubość linii, wielkość punktów itp.) tak, aby wygenerowana mapa była przejrzysta i czytelna.\n",
    "\n",
    "Uwagi do wykonania zadania:\n",
    "- Wybierz dokładność mapy topograficznej tak, żeby nie była rozpikselowana, ale jednocześnie nie wczytywała się nadmiernie długo."
   ]
  },
  {
   "cell_type": "code",
   "execution_count": null,
   "id": "cf7daeab-7a96-4044-af51-cd5d2c33c6ca",
   "metadata": {
    "deletable": false,
    "nbgrader": {
     "cell_type": "code",
     "checksum": "2ccbf5d9b60df188e021e332fdd75acb",
     "grade": true,
     "grade_id": "cell-e4b44f2f3cc8497c",
     "locked": false,
     "points": 3,
     "schema_version": 3,
     "solution": true,
     "task": false
    },
    "tags": []
   },
   "outputs": [],
   "source": [
    "# YOUR CODE HERE\n",
    "raise NotImplementedError()"
   ]
  },
  {
   "cell_type": "markdown",
   "id": "2c5f0435-8b7c-41ec-88d1-bb818c754211",
   "metadata": {
    "deletable": false,
    "editable": false,
    "nbgrader": {
     "cell_type": "markdown",
     "checksum": "1c2c251fe93a4a5f74f16a5b20c192fa",
     "grade": false,
     "grade_id": "cell-e4fab031e1d04ee4",
     "locked": true,
     "schema_version": 3,
     "solution": false,
     "task": false
    },
    "tags": []
   },
   "source": [
    "### Zadanie 4: Interaktywna wizualizacja (4 pkt)\n",
    "\n",
    "Korzystając z funkcji `geopandas.GeoDataFrame.explore()` wykonaj interaktywną mapę, taką że:\n",
    " - kolor województw jest związany z ich powierzchnią,\n",
    " - po najechaniu myszką na obszar województwa wyświetla się jego nazwa,\n",
    " - po kliknięciu na obszar województwa wyświetla się lista 4 informacji związanych z produkcją i zużyciem energii na terenie danego województwa,\n",
    " - w tle znajduje się samodzielnie wybrana (inna od domyślnej) mapa."
   ]
  },
  {
   "cell_type": "code",
   "execution_count": null,
   "id": "56ee4530-eba6-415b-b39e-fa43d3901439",
   "metadata": {
    "deletable": false,
    "nbgrader": {
     "cell_type": "code",
     "checksum": "db4d4468cbc8962b60f0d8290082e2a9",
     "grade": true,
     "grade_id": "cell-fb27d670a1bf3a8a",
     "locked": false,
     "points": 4,
     "schema_version": 3,
     "solution": true,
     "task": false
    },
    "tags": []
   },
   "outputs": [],
   "source": [
    "# YOUR CODE HERE\n",
    "raise NotImplementedError()"
   ]
  }
 ],
 "metadata": {
  "kernelspec": {
   "display_name": "Python 3 (ipykernel)",
   "language": "python",
   "name": "python3"
  },
  "language_info": {
   "codemirror_mode": {
    "name": "ipython",
    "version": 3
   },
   "file_extension": ".py",
   "mimetype": "text/x-python",
   "name": "python",
   "nbconvert_exporter": "python",
   "pygments_lexer": "ipython3",
   "version": "3.9.12"
  }
 },
 "nbformat": 4,
 "nbformat_minor": 5
}
