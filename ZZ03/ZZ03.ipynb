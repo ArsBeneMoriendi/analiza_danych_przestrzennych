{
 "cells": [
  {
   "cell_type": "markdown",
   "id": "97a0c26e",
   "metadata": {
    "deletable": false,
    "editable": false,
    "nbgrader": {
     "cell_type": "markdown",
     "checksum": "76a002fd2a641926bf24212e194d1fe0",
     "grade": false,
     "grade_id": "cell-fcd2666579131b77",
     "locked": true,
     "schema_version": 3,
     "solution": false,
     "task": false
    },
    "tags": []
   },
   "source": [
    "# Analiza danych przestrzennych - ćwiczenia laboratoryjne 2024/2025\n",
    "\n",
    "Ten notatnik zalicza się do grupy zestawów zadań, na podstawie których odbywa się zaliczenie ćwiczeń i podlega zwrotowi do oceny w ustalonym na zajęciach terminie.\n",
    "\n",
    "Uwagi i wytyczne ogólne dotyczące uzupełniania i oceny notatnika:\n",
    "- Podczas wykonywania zadań należy korzystać wyłącznie z pakietów zaimportowanych na początku notatnika oraz z pakietów wchodzących w skład standardowej biblioteki Pythona, które można zaimportować samodzielnie we wskazanej komórce notatnika.\n",
    "- Swoje rozwiązania należy wprowadzać wyłącznie w miejce następujących fragmentów kodu:<br/> `# YOUR CODE HERE`<br/> `raise NotImplementedError()`<br/> \n",
    "a odpowiedzi tekstowe w komórkach oznaczonych hasłem:<br/> \n",
    "`YOUR ANSWER HERE`<br/> \n",
    "Nie należy w żaden sposób modyfikować pozostałych fragmentów kodu oraz innych elementów notatnika, w szczególności dodawać lub usuwać komórek oraz zmieniać nazwy pliku.\n",
    "- Jeżeli zestaw zadań wymaga skorzystania z fragmentów kodu opracowanego w ramach wcześniejszych zestawów zadań należy je umieścić we wskazanej komórce notatnika.\n",
    "- Otrzymywane wyniki i odpowiedzi mają być rezultatem wykonania napisanego kodu, odpowiedzi uzupełniane manualnie nie podlegają ocenie.\n",
    "- Zawarte w notatniku automatyczne testy mają charakter poglądowy. Dotyczą one wybranych aspektów zadań i mają na celu wyłapać podstawowe błędy. Przejście przez kod wszystkich testów nie oznacza, że zadanie jest wykonane w całości poprawnie i zostanie ocenione na maksymalną liczbę punktów.\n",
    "- Zadania należy wykonać w taki sposób, aby podczas wykonywania kodu nie zostały wyświetlone żadne ostrzeżenia.\n",
    "- Zadania, które powodują wyświetlenie komunikatu o błędzie przerywającym wykonywanie kodu nie podlegają ocenie.\n",
    "\n",
    "Uwagi i wytyczne ogólne dotyczące wizualizacji wyników:\n",
    "- Wszystkie wykresy powinny być wykonane w jednolitym, przejrzystym i czytelnym stylu, posiadać odpowiednio dobrane proporcje i zakresy wartości osi.\n",
    "- Figury powinny mieć ustawione białe tło, tak, aby niezależnie od ustawień notatnika wszystkie elementy wykresów były dobrze widoczne (domyślnie tło jest przeźroczyste co może powodować problemy w notatnikach z ustawionym ciemnym tłem). Rozmiar poziomy figur nie powinien przekraczać 20 cali.\n",
    "- Wykresy oraz ich osie powinny mieć nadane tytuły. Jeżeli w obrębie figury znajduje się więcej niż jeden wykres to figura również powinna mieć nadany tytuł.\n",
    "- Zakresy osi wykresów przedstawiających rozkłady punktów w przestrzeni powinny być docięte do granic obszaru, na którym został wygenerowany proces punktowy.\n",
    "- Proporcje osi wykresów przedstawiających rozkłady punktów w przestrzeni powinny być dobrane tak, aby wykresy odzwierciedlały rzeczywisty rozkład punktów w przestrzeni. Nie należy osiągać tego efektu manipulując rozmiarem całej figury.\n",
    "\n",
    "Przed odesłaniem zestawu zadań do oceny proszę uzupełnić komórkę z danymi autorów rozwiązania (nazwa zespołu oraz imiona, nazwiska i numery indeksów członków zespołu) oraz upewnić się, że notatnik działa zgodnie z oczekiwaniami. W tym celu należy skorzystać z opcji **Restart Kernel and Run All Cells...** dostępnej na górnej belce notatnika pod symbolem $\\blacktriangleright\\blacktriangleright$."
   ]
  },
  {
   "cell_type": "raw",
   "id": "090edb64",
   "metadata": {},
   "source": [
    "Nazwa zespołu: Punkty Refleksji (GIN14)\n",
    "Członkowie: Zuzanna Chaniewska, Zuzanna Dybcio, Michał Janik"
   ]
  },
  {
   "cell_type": "markdown",
   "id": "cc3e4cda",
   "metadata": {
    "deletable": false,
    "editable": false,
    "nbgrader": {
     "cell_type": "markdown",
     "checksum": "eddc8826810e4a6f7bf68319da334bd9",
     "grade": false,
     "grade_id": "cell-109006d425e5cf83",
     "locked": true,
     "schema_version": 3,
     "solution": false,
     "task": false
    },
    "tags": []
   },
   "source": [
    "---"
   ]
  },
  {
   "cell_type": "markdown",
   "id": "28276681-0950-4312-92cb-792a97f88e2b",
   "metadata": {
    "deletable": false,
    "editable": false,
    "nbgrader": {
     "cell_type": "markdown",
     "checksum": "0b043234b4053b1ed7c51d086e070d9f",
     "grade": false,
     "grade_id": "cell-1f33a09e5146ecbe",
     "locked": true,
     "schema_version": 3,
     "solution": false,
     "task": false
    },
    "tags": []
   },
   "source": [
    "## Zestaw zadań 3: Badanie intensywności procesów punktowych (część 2)"
   ]
  },
  {
   "cell_type": "code",
   "execution_count": 4,
   "id": "560aae70-e3b4-4a1a-961f-54eebe9922ec",
   "metadata": {
    "deletable": false,
    "editable": false,
    "nbgrader": {
     "cell_type": "code",
     "checksum": "31642740d59cb98672cfd1ca55108013",
     "grade": false,
     "grade_id": "cell-ecd0d56207650fc3",
     "locked": true,
     "schema_version": 3,
     "solution": false,
     "task": false
    },
    "tags": []
   },
   "outputs": [],
   "source": [
    "import numpy as np\n",
    "import pandas as pd\n",
    "import scipy as sp\n",
    "import matplotlib as mpl\n",
    "import matplotlib.pyplot as plt\n",
    "import seaborn as sns"
   ]
  },
  {
   "cell_type": "code",
   "execution_count": 5,
   "id": "85336381-f0de-4bb0-bbd0-d0849707ed38",
   "metadata": {
    "tags": []
   },
   "outputs": [],
   "source": [
    "# Miejsce do importu pakietów wchodzących w skład standardowej biblioteki Pythona oraz ustawienie opcji wykorzystywanych pakietów"
   ]
  },
  {
   "cell_type": "code",
   "execution_count": 6,
   "id": "7ece9eb9-c0d1-479e-bbc2-eddadcef70b5",
   "metadata": {
    "deletable": false,
    "nbgrader": {
     "cell_type": "code",
     "checksum": "55a8e0074e4a79d274a617feada89d70",
     "grade": false,
     "grade_id": "cell-885489b562915779",
     "locked": false,
     "schema_version": 3,
     "solution": true,
     "task": false
    },
    "scrolled": true,
    "tags": []
   },
   "outputs": [],
   "source": [
    "# Miejsce do wklejenie funkcji ze wcześniejszych zestawów zadań\n",
    "def point_count_on_subregions(points, bins, x_lim, y_lim):\n",
    "    \"\"\"\n",
    "    Parameters\n",
    "    -------\n",
    "    points: DataFrame\n",
    "        Tablica zawierająca dwie kolumny ze współrzędnymi punktów opisane jako \"X\" i \"Y\".\n",
    "    bins: list\n",
    "        Lista określająca liczbę podobszarów w poziomie i pionie.\n",
    "        Przykład: [10, 10]\n",
    "    x_lim: list\n",
    "        Lista określająca zakres wartości współrzędnej X.\n",
    "        Przykład: [0, 10]\n",
    "    y_lim: list\n",
    "        Lista określająca zakres wartości współrzędnej Y.\n",
    "        Przykład: [0, 10]   \n",
    "\n",
    "    Returns\n",
    "    -------\n",
    "    bin_data: list\n",
    "        Lista zawierająca trzy macierze:\n",
    "        - 2D z liczbą punków przypisanych do każdego z podobszarów.\n",
    "        - 1D ze współrzędnymi krawędzi podobszarów na osi X,\n",
    "        - 1D ze współrzędnymi krawędzi podobszarów na osi Y,\n",
    "        Na przykład: [array([[7, 2], [4, 5]]), array([0, 1, 2]), array([0, 1, 2])]\n",
    "    \"\"\"\n",
    "    xedges = np.linspace(x_lim[0], x_lim[1], bins[0] + 1)\n",
    "    yedges = np.linspace(y_lim[0], y_lim[1], bins[1] + 1)\n",
    "    \n",
    "    count, xedges, yedges = np.histogram2d(points[\"X\"], points[\"Y\"], bins=[xedges, yedges])\n",
    "    \n",
    "    return [count.T, xedges, yedges]"
   ]
  },
  {
   "attachments": {
    "a050ac61-aa3a-4da8-899d-51ef9a5e89cd.png": {
     "image/png": "[encoded data removed]"
    }
   },
   "cell_type": "markdown",
   "id": "f4cd1f64-87d1-4158-acc2-bc3c5929a5bb",
   "metadata": {
    "deletable": false,
    "editable": false,
    "nbgrader": {
     "cell_type": "markdown",
     "checksum": "20ac1324a60e1cba6a06520743bb0b42",
     "grade": false,
     "grade_id": "cell-f2afbf273f0dc494",
     "locked": true,
     "schema_version": 3,
     "solution": false,
     "task": false
    },
    "tags": []
   },
   "source": [
    "### Wczytanie danych\n",
    "\n",
    "Załączone do notatnika pliki zawierają trzy różne rozkłady punktowe (`points_1`, `points_2` i `points_3`) wygenerowane dla zakresu współrzędnych X $[10, 30]$ i Y $[-15, -5]$ oraz dane wykorzystywane w zawartych w notatniku automatycznych testach.\n",
    "\n",
    "![download.png](attachment:a050ac61-aa3a-4da8-899d-51ef9a5e89cd.png)\n",
    "\n",
    "W celu wczytania danych do notatnika umieść wszystkie pliki w tym samym folderze, w którym znajduje się notatnik."
   ]
  },
  {
   "cell_type": "code",
   "execution_count": 8,
   "id": "5bdc9df9-80a1-45fe-a3e0-bcc9a3268595",
   "metadata": {
    "deletable": false,
    "editable": false,
    "nbgrader": {
     "cell_type": "code",
     "checksum": "63ab7cf1f295618ea16019659e963a6d",
     "grade": false,
     "grade_id": "cell-ade1720260927626",
     "locked": true,
     "schema_version": 3,
     "solution": false,
     "task": false
    },
    "tags": []
   },
   "outputs": [],
   "source": [
    "points_1 = pd.read_pickle('points_1.pkl')\n",
    "points_2 = pd.read_pickle('points_2.pkl')\n",
    "points_3 = pd.read_pickle('points_3.pkl')\n",
    "\n",
    "test_data_1 = np.load(\"test_data_1.npy\")\n",
    "test_data_2 = np.load(\"test_data_2.npy\")\n",
    "test_data_3 = pd.read_pickle('test_data_3.pkl')"
   ]
  },
  {
   "cell_type": "markdown",
   "id": "e8a75976-cb9d-4da6-b501-73a9f60bfb6a",
   "metadata": {
    "deletable": false,
    "editable": false,
    "nbgrader": {
     "cell_type": "markdown",
     "checksum": "83d25eb24734f77400a61b6eaf38e019",
     "grade": false,
     "grade_id": "cell-cf8e2b1190d2c9a6",
     "locked": true,
     "schema_version": 3,
     "solution": false,
     "task": false
    },
    "tags": []
   },
   "source": [
    "### Zadanie 1: Test chi-kwadrat Pearsona (18 pkt)\n",
    "\n",
    "#### a) Przygotowanie funkcji\n",
    "\n",
    "Przygotuj funkcję `pearsons_chi2_test()`, która będzie przeprowadzać test istotności chi-kwadrat Pearsona i wyświetlać jego wynik zgodnie z pokazanym poniżej schematem oraz funkcje pomocnicze `distribution_table()` i `poisson_distribution_table()`, które będą przygotowywać szeregi rozdzielcze testowanego rozkładu oraz teoretycznego rozkładu Poissona.\n",
    "\n",
    "Algorytm postępowania:\n",
    "1. Przygotowanie danych\n",
    "    - Dzielimy analizowany obszar na identyczne podobszary ułożone w równomiernej siatce (w wierszach i kolumnach) i zliczamy punkty znajdujące się w poszczególnych podobszarach (punkty znajdujące się na granicach podobszarów powinny być zliczone tylko do jednego z nich).\n",
    "    - Określamy jaka jest minimalna i maksymalna liczba punktów zaobserwowana w obrębie podobszaru, a następnie zliczamy w ilu podobszarach występują kolejne liczby punktów od wartości minimalnej do wartości maksymalnej uwzględniając również te wartości zliczeń, które nie występują w żadnym z podobszarów.\n",
    "    - Dla wszystkich wartości z zakresu od wartości minimalnej do maksymalnej wyliczamy prawdopodobieństwa ich wystąpienia w przypadku, gdyby rozkład był rozkładem teoretycznym do którego porównujemy analizowany rozkład ustandaryzowane do sumy równej 1. Następnie przeliczamy prawdopodobieństwa do liczebności teoretycznych mnożąc ich wartości przez liczbę obserwacji (w tym przypadku jest to liczba podobszarów).\n",
    "\n",
    "2. Test statystyczny\n",
    "    - Formułujemy hipotezę zerową H0 i hipotezę alternatywną H1: <br/>\n",
    "    H0: Testowana zmienna ma przyjęty rozkład teoretyczny <br/>\n",
    "    H1: Testowana zmienna nie ma przyjętego rozkładu teoretycznego\n",
    "    - Obliczamy wartość parametru pvalue\n",
    "    - Podejmujemy decyzję weryfikującą: <br/>\n",
    "    pvalue < alpha - Odrzucenie H0 na rzecz H1 na poziomie istotności 1-alpha = A <br/>\n",
    "    pvalue >= alpha - Wynik testu istotności nie daje podstaw do odrzucenia H0 na rzecz H1 na poziomie istotności 1-alpha = A\n",
    "\n",
    "Funkcja `pearsons_chi2_test()` poza zwracaniem wartości określonych w docstring funkcji powinna również wyświetlać komunikat o wyniku testu zawierający: <br/>\n",
    "- nazwę wykonywanego testu,\n",
    "- postać hipotezy zerowej,\n",
    "- postać hipotezy alternatywnej,\n",
    "- wartości wyznaczonych statystyk pvalue i alpha,\n",
    "- zależność między statystykami pvalue i alpha, na podstawie której została podjęta decyzja,\n",
    "- informację o wyniku testu: \"Wynik testu istotności nie daje podstaw do odrzucenia H0 na rzecz H1 na poziomie istotności 1 - alpha = A\" lub \"Odrzucenie H0 na rzecz H1 na poziomie istotności 1 - alpha = A\".\n",
    "\n",
    "Wszystkie występujące w komunikacie wartości liczbowe powinny być automatycznie uzupełniane przez funkcję i odpowiednio sformatowane (6 miejsc po przecinku w przypadku pvalue, pozostałe wartości z formatowaniem domyślnym).\n",
    "\n",
    "Przykład komunikatu:\n",
    "<br/>\n",
    "`Test chi-kwadrat Pearsona` <br/>\n",
    "`H0: Testowana zmienna ma przyjęty rozkład teoretyczny` <br/>\n",
    "`H1: Testowana zmienna nie ma przyjętego rozkładu teoretycznego` <br/>\n",
    "`pvalue = 0.093543, alpha = 0.05`<br/>\n",
    "`pvalue >= alpha`<br/>\n",
    "`Wynik testu istotności nie daje podstaw do odrzucenia H0 na rzecz H1 na poziomie istotności 1-alpha = 0.95` <br/>\n",
    "\n",
    "Uwagi do wykonania zadania:\n",
    "- W części zadania dotyczącej podziału obszaru analizy na podobszary i zliczenia znajdujących się w nich punktów nie należy pisać kodu od podstaw, a jedynie skorzystać z przygotowanej wcześniej funkcji `point_count_on_subregions()`, którą można wkleić we wskazanej komórce na początku notatnika.\n",
    "- Podczas wyznaczania wartości pvalue należy skorzystać z funkcji `scipy.stats.chisquare()`."
   ]
  },
  {
   "cell_type": "code",
   "execution_count": 10,
   "id": "cf751bf0-f36a-4377-b6cc-a259336a5b4a",
   "metadata": {
    "deletable": false,
    "nbgrader": {
     "cell_type": "code",
     "checksum": "31eb31323e59196e91f9e3609a082f89",
     "grade": false,
     "grade_id": "cell-357a2ee8390da86b",
     "locked": false,
     "schema_version": 3,
     "solution": true,
     "task": false
    },
    "tags": []
   },
   "outputs": [
    {
     "name": "stdout",
     "output_type": "stream",
     "text": [
      "[8, 15, 19, 42, 39, 28, 24, 13, 7, 3, 2]\n",
      "Test chi-kwadrat Pearsona \n",
      "H0: Testowana zmienna ma przyjęty rozkład teoretyczny \n",
      "H1: Testowana zmienna nie ma przyjętego rozkładu teoretycznego\n",
      "pvalue = 0.833954, alpha = 0.1\n",
      "pvalue >= alpha\n",
      "Wynik testu istotności nie daje podstaw do odrzucenia H0 na rzecz H1 na poziomie istotności 1 - alpha = 0.9\n"
     ]
    },
    {
     "data": {
      "text/plain": [
       "(0.833953591213181, 0)"
      ]
     },
     "execution_count": 10,
     "metadata": {},
     "output_type": "execute_result"
    }
   ],
   "source": [
    "def distribution_table(bin_counts):\n",
    "    \"\"\"\n",
    "    Parameters\n",
    "    -------\n",
    "    bin_counts: array\n",
    "        Macierz 2D z liczbą punków przypisanych do każdego z podobszarów.\n",
    "\n",
    "    Returns\n",
    "    -------\n",
    "    table: DataFrame\n",
    "        Tablica zawierająca 2 kolumny:\n",
    "        - \"K\", która zawiera wszystkie wartości całkowite z zakresu od minimalnej do maksymalnej liczby zliczeń w obrębie podobszarów,\n",
    "        - \"N(K)\", która zawiera liczby podobszarów, którym zostały przypisane poszczególne liczby punktów.\n",
    "    \"\"\"    \n",
    "    flat = bin_counts.flatten().tolist()\n",
    "    min_k = min(flat)\n",
    "    max_k = max(flat)\n",
    "    df_k = list(range(int(min_k), int(max_k)+1))\n",
    "    #print(np.unique(flat, return_counts=True)[1])\n",
    "    df_nk=[]\n",
    "    for i in df_k:\n",
    "         df_nk.append(flat.count(i))  \n",
    "    print(df_nk)\n",
    "    df = pd.DataFrame({\"K\":df_k,\"N(K)\":df_nk})\n",
    "    \n",
    "    return(df)\n",
    "\n",
    "def poisson_distribution_table(k, mu, n):\n",
    "    \"\"\"\n",
    "    Parameters\n",
    "    -------\n",
    "    k: array\n",
    "        Macierz 1D z wariantami badanej cechy, dla którym ma zostać wyliczone prawdopodobieństwo.\n",
    "    mu: int\n",
    "        Wartość oczekiwana rozkładu Poissona.\n",
    "    n: int\n",
    "        Liczba podobszarów w analizowanym przypadku.\n",
    "\n",
    "    Returns\n",
    "    -------\n",
    "    table: DataFrame\n",
    "        Tablica zawierająca 2 kolumny:\n",
    "        - \"K\", która zawiera warianty badanej cechy,\n",
    "        - \"N(K)\", która zawiera wartości teoretycznych liczebności rozkładu Poissona wyliczone dla wartości oczekiwanej mu i liczby podobszarów n.\n",
    "    \"\"\"  \n",
    "    probab = sp.stats.poisson.pmf(k,mu)\n",
    "    probab_normalised = probab/sum(probab)\n",
    "    n_k = probab_normalised*n\n",
    "    df_poisson = pd.DataFrame({\"K\": k, \"N(K)\": n_k})\n",
    "    \n",
    "    return(df_poisson)\n",
    "                               \n",
    "    \n",
    "def pearsons_chi2_test(tested_distribution, theoretical_distribution, alpha):\n",
    "    \"\"\"\n",
    "    Parameters\n",
    "    -------\n",
    "    tested_distribution: DataFrame\n",
    "        Tablica opisująca testowany rozkład i zawierająca 2 kolumny:\n",
    "        - \"K\", która zawiera warianty badanej cechy, wartości muszą być identycznej jak kolumna \"K\" zmiennej lokalnej theoretical_distribution,\n",
    "        - \"N(K)\", która zawiera liczebności poszczególnych wariantów badanej cechy.\n",
    "    theoretical_distribution: DataFrame\n",
    "        Tablica opisująca rozkład teoretyczny i zawierająca 2 kolumny:\n",
    "        - \"K\", która zawiera warianty badanej cechy, wartości muszą być identycznej jak kolumna \"K\" zmiennej lokalnej tested_distribution,\n",
    "        - \"N(K)\", która zawiera wartości teoretycznych liczebności rozkładu Poissona.  \n",
    "    alpha: float\n",
    "        Wartość z zakresu [0,1] określająca poziom istotności. \n",
    "   \n",
    "    Returns\n",
    "    -------\n",
    "    pvalue: float\n",
    "        Wyliczona wartość statystyki pvalue.\n",
    "    H: int\n",
    "        Wynik testu statystycznego, przyjmuje wartość:\n",
    "        0 - gdy wynik testu istotności nie daje podstaw do odrzucenia H0 na rzecz H1 na poziomie istotności 1-alpha,\n",
    "        1 - gdy następuje odrzucenie H0 na rzecz H1 na poziomie istotności 1-alpha.\n",
    "    \"\"\"\n",
    "    chi_kwadrat = sp.stats.chisquare(tested_distribution[\"N(K)\"], theoretical_distribution[\"N(K)\"])\n",
    "    p_value = chi_kwadrat[1]\n",
    "    print(\"Test chi-kwadrat Pearsona \\nH0: Testowana zmienna ma przyjęty rozkład teoretyczny \\nH1: Testowana zmienna nie ma przyjętego rozkładu teoretycznego\")\n",
    "    print(\"pvalue = {pvalue}, alpha = {alpha}\".format(pvalue = round(p_value,6), alpha = alpha))\n",
    "   \n",
    "    if (p_value < alpha):\n",
    "        H = 1\n",
    "        print(\"pvalue < alpha\")\n",
    "        print(\"Odrzucenie H0 na rzecz H1 na poziomie istotności 1 - alpha = {A}\".format(A = 1-alpha))\n",
    "    else:\n",
    "        H = 0\n",
    "        print(\"pvalue >= alpha\") \n",
    "        print(\"Wynik testu istotności nie daje podstaw do odrzucenia H0 na rzecz H1 na poziomie istotności 1 - alpha = {A}\".format(A=1-alpha))\n",
    "    return(p_value, H)\n",
    "        \n",
    "test_distribution_table_1 = distribution_table(test_data_1)   \n",
    "test_poisson_distribution_table_1 = poisson_distribution_table(test_distribution_table_1[\"K\"], 5, np.size(test_data_1))\n",
    "\n",
    "pearsons_chi2_test(test_distribution_table_1, test_poisson_distribution_table_1, 0.1)"
   ]
  },
  {
   "cell_type": "code",
   "execution_count": 11,
   "id": "36df9c9a-4e6d-42de-bbca-f8c5a461ac25",
   "metadata": {
    "deletable": false,
    "editable": false,
    "nbgrader": {
     "cell_type": "code",
     "checksum": "f2914b699193f146e7d0d41514476a86",
     "grade": true,
     "grade_id": "cell-afb9d43f8c15a265",
     "locked": true,
     "points": 14,
     "schema_version": 3,
     "solution": false,
     "task": false
    },
    "tags": []
   },
   "outputs": [
    {
     "name": "stdout",
     "output_type": "stream",
     "text": [
      "[8, 15, 19, 42, 39, 28, 24, 13, 7, 3, 2]\n",
      "[1, 12, 28, 20, 29, 35, 33, 15, 13, 8, 3, 0, 2, 1]\n",
      "Test chi-kwadrat Pearsona \n",
      "H0: Testowana zmienna ma przyjęty rozkład teoretyczny \n",
      "H1: Testowana zmienna nie ma przyjętego rozkładu teoretycznego\n",
      "pvalue = 0.833954, alpha = 0.1\n",
      "pvalue >= alpha\n",
      "Wynik testu istotności nie daje podstaw do odrzucenia H0 na rzecz H1 na poziomie istotności 1 - alpha = 0.9\n",
      "\n",
      "Test chi-kwadrat Pearsona \n",
      "H0: Testowana zmienna ma przyjęty rozkład teoretyczny \n",
      "H1: Testowana zmienna nie ma przyjętego rozkładu teoretycznego\n",
      "pvalue = 0.03619, alpha = 0.05\n",
      "pvalue < alpha\n",
      "Odrzucenie H0 na rzecz H1 na poziomie istotności 1 - alpha = 0.95\n"
     ]
    }
   ],
   "source": [
    "# Komórka testowa\n",
    "# Testy funkcji distribution_table()\n",
    "test_distribution_table_1 = distribution_table(test_data_1)\n",
    "test_distribution_table_2 = distribution_table(test_data_2)\n",
    "\n",
    "assert type(test_distribution_table_2) == pd.DataFrame\n",
    "assert test_distribution_table_2.shape == (14, 2)\n",
    "assert list(test_distribution_table_2.columns) == [\"K\", \"N(K)\"]\n",
    "assert np.all(np.isclose(test_distribution_table_2[\"K\"].values, np.array([0.,  1.,  2.,  3.,  4.,  5.,  6.,  7.,  8.,  9., 10., 11., 12., 13.])))\n",
    "assert np.all(np.isclose(test_distribution_table_2[\"N(K)\"].values, np.array([1., 12., 28., 20., 29., 35., 33., 15., 13.,  8.,  3.,  0.,  2., 1.])))\n",
    "\n",
    "# Testy funkcji poisson_distribution_table()\n",
    "test_poisson_distribution_table_1 = poisson_distribution_table(test_distribution_table_1[\"K\"], 5, np.size(test_data_1))\n",
    "test_poisson_distribution_table_2 = poisson_distribution_table(test_distribution_table_2[\"K\"], 5, np.size(test_data_2))\n",
    "\n",
    "assert type(test_poisson_distribution_table_2) == pd.DataFrame\n",
    "assert test_poisson_distribution_table_1.shape == (11, 2)\n",
    "assert list(test_poisson_distribution_table_1.columns) == [\"K\", \"N(K)\"]\n",
    "assert np.all(np.isclose(test_poisson_distribution_table_1[\"K\"].values, np.array([1.,  2.,  3.,  4.,  5.,  6.,  7.,  8.,  9., 10., 11.])))\n",
    "assert np.all(np.isclose(test_poisson_distribution_table_1[\"N(K)\"].values, np.array([6.82110334, 17.05275834, 28.4212639, 35.52657987,\n",
    "                                                                                     35.52657987, 29.60548323, 21.14677373, 13.21673358,\n",
    "                                                                                     7.34262977,  3.67131488, 1.66877949])))\n",
    "\n",
    "# Testy funkcji pearsons_chi2_test()\n",
    "test_results_1 = pearsons_chi2_test(test_distribution_table_1, test_poisson_distribution_table_1, 0.1)\n",
    "print()\n",
    "test_results_2 = pearsons_chi2_test(test_distribution_table_2, test_poisson_distribution_table_2, 0.05)\n",
    "\n",
    "assert np.all(np.isclose(test_results_1, (0.8339535912131808, 0)))\n",
    "assert np.all(np.isclose(test_results_2, (0.036190289095704944, 1)))"
   ]
  },
  {
   "cell_type": "markdown",
   "id": "a4717de4-5c60-4edd-88a9-6c1a296da5e8",
   "metadata": {
    "deletable": false,
    "editable": false,
    "nbgrader": {
     "cell_type": "markdown",
     "checksum": "5384bffb573b7fb2946b97216502d165",
     "grade": false,
     "grade_id": "cell-8faafe8175d68f1e",
     "locked": true,
     "schema_version": 3,
     "solution": false,
     "task": false
    },
    "tags": []
   },
   "source": [
    "#### b) Weryfikacja hipotez o rozkładach 1 i 2\n",
    "Wykorzystaj przygotowaną funkcję do zweryfikowania hipotez, że rozkłady punktowe `points_1` i `points_2` są jednorodnymi rozkładami Poissona o intensywności równej 20. W obliczeniach przyjmij $\\alpha=0.05$, zakres współrzędnej $X$ [10, 30], zakres współrzędnej $Y$ [-15, -5] oraz ustaw podział obszaru na 40 podobszarów wzdłuż osi $X$ i 20 podobszarów wzdłuż osi $Y$. Wyniki przeprowadzonych testów zapisz odpowiednio do zmiennych `results_1` i `results_2`."
   ]
  },
  {
   "cell_type": "code",
   "execution_count": 13,
   "id": "684018bf-b940-4b7d-b370-6cb84f951028",
   "metadata": {
    "deletable": false,
    "nbgrader": {
     "cell_type": "code",
     "checksum": "e09c7395a23e661a9faf380114abc5c4",
     "grade": false,
     "grade_id": "cell-10530e4bdc225d2e",
     "locked": false,
     "schema_version": 3,
     "solution": true,
     "task": false
    },
    "tags": []
   },
   "outputs": [
    {
     "name": "stdout",
     "output_type": "stream",
     "text": [
      "[7, 21, 75, 118, 147, 137, 102, 74, 65, 31, 18, 2, 3]\n",
      "Test chi-kwadrat Pearsona \n",
      "H0: Testowana zmienna ma przyjęty rozkład teoretyczny \n",
      "H1: Testowana zmienna nie ma przyjętego rozkładu teoretycznego\n",
      "pvalue = 0.0, alpha = 0.05\n",
      "pvalue < alpha\n",
      "Odrzucenie H0 na rzecz H1 na poziomie istotności 1 - alpha = 0.95\n"
     ]
    }
   ],
   "source": [
    "# Weryfikacja hipotezy o rozkładzie 1\n",
    "bins1 = point_count_on_subregions(points_1,[40,20],[10,30],[-15,-5])[0]\n",
    "dt1 = distribution_table(bins1)\n",
    "tpdt1 = poisson_distribution_table(dt1[\"K\"], 20 ,np.size(bins1))\n",
    "results_1 = pearsons_chi2_test(dt1, tpdt1, 0.05)"
   ]
  },
  {
   "cell_type": "code",
   "execution_count": 14,
   "id": "40328148-42ac-443f-a33e-acf562aa69f9",
   "metadata": {
    "deletable": false,
    "nbgrader": {
     "cell_type": "code",
     "checksum": "a7456f786cecf54d22256c12c2e8c169",
     "grade": false,
     "grade_id": "cell-6c54b48d31e662da",
     "locked": false,
     "schema_version": 3,
     "solution": true,
     "task": false
    },
    "tags": []
   },
   "outputs": [
    {
     "name": "stdout",
     "output_type": "stream",
     "text": [
      "[3, 18, 69, 102, 142, 147, 125, 92, 48, 21, 17, 8, 3, 5]\n",
      "Test chi-kwadrat Pearsona \n",
      "H0: Testowana zmienna ma przyjęty rozkład teoretyczny \n",
      "H1: Testowana zmienna nie ma przyjętego rozkładu teoretycznego\n",
      "pvalue = 0.0, alpha = 0.05\n",
      "pvalue < alpha\n",
      "Odrzucenie H0 na rzecz H1 na poziomie istotności 1 - alpha = 0.95\n"
     ]
    }
   ],
   "source": [
    "# Weryfikacja hipotezy o rozkładzie 2\n",
    "bins2 = point_count_on_subregions(points_2,[40,20],[10,30],[-15,-5])[0]\n",
    "dt2 = distribution_table(bins2)\n",
    "tpdt2 = poisson_distribution_table(dt2[\"K\"], 20 , np.size(bins2))\n",
    "results_2 = pearsons_chi2_test(dt2, tpdt2, 0.05)"
   ]
  },
  {
   "cell_type": "code",
   "execution_count": 15,
   "id": "bf9d49d1-4905-44bf-8a87-9ef689a38e8b",
   "metadata": {
    "deletable": false,
    "editable": false,
    "nbgrader": {
     "cell_type": "code",
     "checksum": "2aab8ebec1bd8764ec2f534bbcbc6c88",
     "grade": true,
     "grade_id": "cell-5f7cc2c8f138579d",
     "locked": true,
     "points": 4,
     "schema_version": 3,
     "solution": false,
     "task": false
    },
    "tags": []
   },
   "outputs": [],
   "source": [
    "### Komórka testowa\n",
    "# Testy nie są widoczne w wersji do uzupełnienia"
   ]
  },
  {
   "cell_type": "markdown",
   "id": "8eb8c0a3-36c4-4eee-a0a3-82f5f93008c5",
   "metadata": {
    "deletable": false,
    "editable": false,
    "nbgrader": {
     "cell_type": "markdown",
     "checksum": "088470fa86405478bf3bff583246cd43",
     "grade": false,
     "grade_id": "cell-46f87024c5253ba3",
     "locked": true,
     "schema_version": 3,
     "solution": false,
     "task": false
    },
    "tags": []
   },
   "source": [
    "### Zadanie 2: Test Kołmogorowa - Smirnowa (7 pkt)\n",
    "\n",
    "#### a) Przygotowanie funkcji\n",
    "\n",
    "Przygotuj funkcję `kolmogorow_smirnow_test()`, która będzie przeprowadzać test istotności Kołmogorowa-Smirnowa i wyświetlać jego wynik zgodnie z pokazanym poniżej schematem.\n",
    "\n",
    "Algorytm postępowania:\n",
    "- Formułujemy hipotezę zerową H0 i hipotezę alternatywną H1: <br/>\n",
    "H0: Testowana zmienna ma przyjęty rozkład teoretyczny <br/>\n",
    "H1: Testowana zmienna nie ma przyjętego rozkładu teoretycznego\n",
    "- Obliczamy wartość parametru pvalue\n",
    "- Podejmujemy decyzję weryfikującą: <br/>\n",
    "pvalue < alpha - Odrzucenie H0 na rzecz H1 na poziomie istotności 1-alpha = A <br/>\n",
    "pvalue >= alpha - Wynik testu istotności nie daje podstaw do odrzucenia H0 na rzecz H1 na poziomie istotności 1-alpha = A\n",
    "\n",
    "Funkcja `kolmogorow_smirnow_test()` poza zwracaniem wartości określonych w docstring funkcji powinna również wyświetlać komunikat o wyniku testu zawierający: <br/>\n",
    "- nazwę wykonywanego testu,\n",
    "- postać hipotezy zerowej,\n",
    "- postać hipotezy alternatywnej,\n",
    "- wartości wyznaczonych statystyk pvalue i alpha,\n",
    "- zależność między statystykami pvalue i alpha, na podstawie której została podjęta decyzja,\n",
    "- informację o wyniku testu: \"Wynik testu istotności nie daje podstaw do odrzucenia H0 na rzecz H1 na poziomie istotności 1 - alpha = A\" lub \"Odrzucenie H0 na rzecz H1 na poziomie istotności 1 - alpha = A\".\n",
    "\n",
    "Wszystkie występujące w komunikacie wartości liczbowe powinny być automatycznie uzupełniane przez funkcję i odpowiednio sformatowane (6 miejsc po przecinku w przypadku pvalue, pozostałe wartości z formatowaniem domyślnym).\n",
    "\n",
    "Przykład komunikatu:<br/>\n",
    "`Test Kołmogorowa-Smirnowa dla współrzędnej X` <br/>\n",
    "`H0: Testowana zmienna ma przyjęty rozkład teoretyczny` <br/>\n",
    "`H1: Testowana zmienna nie ma przyjętego rozkładu teoretycznego` <br/>\n",
    "`pvalue = 0.013945, alpha = 0.05`<br/>\n",
    "`pvalue < alpha`<br/>\n",
    "`Odrzucenie H0 na rzecz H1 na poziomie istotnośc 1-alpha = 0.95` <br/>\n",
    "\n",
    "Uwagi do wykonania zadania:\n",
    "- Podczas wyznaczania wartości pvalue należy skorzystać z funkcji `sp.stats.kstest()`."
   ]
  },
  {
   "cell_type": "code",
   "execution_count": 17,
   "id": "13e653bc-c56b-42d8-95a5-3d5ac5b8eeff",
   "metadata": {
    "deletable": false,
    "nbgrader": {
     "cell_type": "code",
     "checksum": "109fb09db4817acf36d00434884aae25",
     "grade": false,
     "grade_id": "cell-2f066333ab586e29",
     "locked": false,
     "schema_version": 3,
     "solution": true,
     "task": false
    },
    "tags": []
   },
   "outputs": [],
   "source": [
    "def kolmogorow_smirnow_test(tested_points, theoretical_distibution, theoretical_distibution_args, alpha):\n",
    "    \"\"\"\n",
    "    Parameters\n",
    "    -------\n",
    "    tested_points: DataFrame\n",
    "        Tablica zawierająca kolumnę ze współrzędnymi punktów testowanego rozkładu opisaną jako \"X\" lub \"Y\".\n",
    "    theoretical_distibution: str\n",
    "        Nazwa modułu scipy.stats z rozkładem teoretycznym wykorzystanym w teście.\n",
    "    theoretical_distibution_args: list\n",
    "        Lista z argumentami funkcji cdf wykorzystanego w teście rozkładu teorytycznego.\n",
    "    alpha: float\n",
    "        Wartość z zakresu [0,1] określająca poziom istotności.\n",
    "    \n",
    "    Returns\n",
    "    -------\n",
    "    pvalue: float\n",
    "        Wyliczona wartość statystyki pvalue.\n",
    "    H: int\n",
    "        Wynik testu statystycznego, przyjmuje wartość:\n",
    "        0 - gdy wynik testu istotności nie daje podstaw do odrzucenia H0 na rzecz H1 na poziomie istotności 1-alpha,\n",
    "        1 - gdy następuje odrzucenie H0 na rzecz H1 na poziomie istotności 1-alpha.\n",
    "    \"\"\"\n",
    "    result = sp.stats.kstest(tested_points, theoretical_distibution, args=theoretical_distibution_args)\n",
    "    pvalue = result.pvalue\n",
    "\n",
    "    if pvalue < alpha:\n",
    "        H = 1\n",
    "        decision = f\"pvalue < alpha\\nOdrzucenie H0 na rzecz H1 na poziomie istotności 1 - alpha = {1 - alpha:.2f}\"\n",
    "    else:\n",
    "        H = 0\n",
    "        decision = f\"pvalue >= alpha\\nWynik testu istotności nie daje podstaw do odrzucenia H0 na rzecz H1 na poziomie istotności 1 - alpha = {1 - alpha:.2f}\"\n",
    "\n",
    "    print(\"Test Kołmogorowa-Smirnowa\")\n",
    "    print(\"H0: Testowana zmienna ma przyjęty rozkład teoretyczny\")\n",
    "    print(\"H1: Testowana zmienna nie ma przyjętego rozkładu teoretycznego\")\n",
    "    print(f\"pvalue = {pvalue:.6f}, alpha = {alpha}\")\n",
    "    print(decision)\n",
    "\n",
    "    return pvalue, H"
   ]
  },
  {
   "cell_type": "code",
   "execution_count": 18,
   "id": "0beb34b7-24be-4954-b830-ebcd2a5e608c",
   "metadata": {
    "deletable": false,
    "editable": false,
    "nbgrader": {
     "cell_type": "code",
     "checksum": "32334bf0258b39aa4501ace5c607e55b",
     "grade": true,
     "grade_id": "cell-17a948f6434d8133",
     "locked": true,
     "points": 5,
     "schema_version": 3,
     "solution": false,
     "task": false
    },
    "tags": []
   },
   "outputs": [
    {
     "name": "stdout",
     "output_type": "stream",
     "text": [
      "Test Kołmogorowa-Smirnowa\n",
      "H0: Testowana zmienna ma przyjęty rozkład teoretyczny\n",
      "H1: Testowana zmienna nie ma przyjętego rozkładu teoretycznego\n",
      "pvalue = 0.820652, alpha = 0.1\n",
      "pvalue >= alpha\n",
      "Wynik testu istotności nie daje podstaw do odrzucenia H0 na rzecz H1 na poziomie istotności 1 - alpha = 0.90\n",
      "\n",
      "Test Kołmogorowa-Smirnowa\n",
      "H0: Testowana zmienna ma przyjęty rozkład teoretyczny\n",
      "H1: Testowana zmienna nie ma przyjętego rozkładu teoretycznego\n",
      "pvalue = 0.002407, alpha = 0.02\n",
      "pvalue < alpha\n",
      "Odrzucenie H0 na rzecz H1 na poziomie istotności 1 - alpha = 0.98\n"
     ]
    }
   ],
   "source": [
    "# Komórka testowa\n",
    "test_results_3 = kolmogorow_smirnow_test(test_data_3['X'], \"uniform\", [10, 20], 0.1)\n",
    "print()\n",
    "test_results_4 = kolmogorow_smirnow_test(test_data_3['Y'], \"uniform\", [-5, 10], 0.02)\n",
    "\n",
    "assert np.all(np.isclose(test_results_3, (0.8206524374459956, 0)))\n",
    "assert np.all(np.isclose(test_results_4, (0.0024067770535735784, 1)))"
   ]
  },
  {
   "cell_type": "markdown",
   "id": "f853e0f4-8b60-4773-956e-ba988fc22cb1",
   "metadata": {
    "deletable": false,
    "editable": false,
    "nbgrader": {
     "cell_type": "markdown",
     "checksum": "d3b20bd7456581fd6831c8e76e166f7a",
     "grade": false,
     "grade_id": "cell-3912a59c00ac417b",
     "locked": true,
     "schema_version": 3,
     "solution": false,
     "task": false
    },
    "tags": []
   },
   "source": [
    "#### b) Weryfikacja hipotezy o rozkładzie 3\n",
    "Wykorzystaj przygotowaną funkcję do zweryfikowania hipotezy, że rozkład punktowy `points_3` jest jednorodnym rozkładem Poissona o intensywności równej 20. W obliczeniach przyjmij $\\alpha=0.05$, zakres współrzędnej $X$ [10, 30], zakres współrzędnej $Y$ [-15, -5]. Wyniki przeprowadzonych testów zapisz odpowiednio do zmiennych `results_3X` i `results_3Y`.\n",
    "\n",
    "Uwagi do wykonania zadania:\n",
    " - Test należy przeprowadzić niezależnie dla współrzędnej X i Y."
   ]
  },
  {
   "cell_type": "code",
   "execution_count": 20,
   "id": "a7c70431-2637-4377-96d0-a6d7eb27ad7e",
   "metadata": {
    "deletable": false,
    "nbgrader": {
     "cell_type": "code",
     "checksum": "414b0f227fcfc3b92b521a77b1644022",
     "grade": false,
     "grade_id": "cell-a815b45ab15cc87c",
     "locked": false,
     "schema_version": 3,
     "solution": true,
     "task": false
    },
    "tags": []
   },
   "outputs": [
    {
     "name": "stdout",
     "output_type": "stream",
     "text": [
      "Test Kołmogorowa-Smirnowa\n",
      "H0: Testowana zmienna ma przyjęty rozkład teoretyczny\n",
      "H1: Testowana zmienna nie ma przyjętego rozkładu teoretycznego\n",
      "pvalue = 0.032959, alpha = 0.05\n",
      "pvalue < alpha\n",
      "Odrzucenie H0 na rzecz H1 na poziomie istotności 1 - alpha = 0.95\n",
      "Test Kołmogorowa-Smirnowa\n",
      "H0: Testowana zmienna ma przyjęty rozkład teoretyczny\n",
      "H1: Testowana zmienna nie ma przyjętego rozkładu teoretycznego\n",
      "pvalue = 0.433515, alpha = 0.05\n",
      "pvalue >= alpha\n",
      "Wynik testu istotności nie daje podstaw do odrzucenia H0 na rzecz H1 na poziomie istotności 1 - alpha = 0.95\n"
     ]
    },
    {
     "data": {
      "text/plain": [
       "((0.03295921084700004, 1), (0.43351484521308525, 0))"
      ]
     },
     "execution_count": 20,
     "metadata": {},
     "output_type": "execute_result"
    }
   ],
   "source": [
    "filtered_points_3 = points_3[(points_3[\"X\"] >= 10) & (points_3[\"X\"] <= 30) & (points_3[\"Y\"] >= -15) & (points_3[\"Y\"] <= -5)]\n",
    "\n",
    "intensity = 20\n",
    "\n",
    "x_range = 30 - 10  # [10, 30]\n",
    "y_range = -5 - (-15)  # [-15, -5]\n",
    "\n",
    "x_lambda = intensity / x_range\n",
    "y_lambda = intensity / y_range\n",
    "\n",
    "results_3X = kolmogorow_smirnow_test(filtered_points_3[\"X\"], \"uniform\", [10, 20], 0.05) # 20 jest długością, 10+20=30, w efekcie otrzymujemy zakres [10, 30]\n",
    "results_3Y = kolmogorow_smirnow_test(filtered_points_3[\"Y\"], \"uniform\", [-15, 10], 0.05) # tak samo, jak wyżej, -15+10=-5, odpowiada to zakresowi [-15, -5]\n",
    "\n",
    "results_3X, results_3Y"
   ]
  },
  {
   "cell_type": "code",
   "execution_count": 21,
   "id": "8d53635b-abb6-42ea-8bcf-65cdcfc940c7",
   "metadata": {
    "deletable": false,
    "editable": false,
    "nbgrader": {
     "cell_type": "code",
     "checksum": "e8128af79025073dada43cd8f6ea844b",
     "grade": true,
     "grade_id": "cell-e424cc6c03449996",
     "locked": true,
     "points": 2,
     "schema_version": 3,
     "solution": false,
     "task": false
    },
    "tags": []
   },
   "outputs": [],
   "source": [
    "### Komórka testowa\n",
    "# Testy nie są widoczne w wersji do uzupełnienia"
   ]
  }
 ],
 "metadata": {
  "kernelspec": {
   "display_name": "Python 3 (ipykernel)",
   "language": "python",
   "name": "python3"
  },
  "language_info": {
   "codemirror_mode": {
    "name": "ipython",
    "version": 3
   },
   "file_extension": ".py",
   "mimetype": "text/x-python",
   "name": "python",
   "nbconvert_exporter": "python",
   "pygments_lexer": "ipython3",
   "version": "3.12.4"
  }
 },
 "nbformat": 4,
 "nbformat_minor": 5
}
