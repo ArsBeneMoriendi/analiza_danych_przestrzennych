{
 "cells": [
  {
   "cell_type": "markdown",
   "id": "3c8bd447",
   "metadata": {
    "deletable": false,
    "editable": false,
    "nbgrader": {
     "cell_type": "markdown",
     "checksum": "76a002fd2a641926bf24212e194d1fe0",
     "grade": false,
     "grade_id": "cell-fcd2666579131b77",
     "locked": true,
     "schema_version": 3,
     "solution": false,
     "task": false
    },
    "tags": []
   },
   "source": [
    "# Analiza danych przestrzennych - ćwiczenia laboratoryjne 2024/2025\n",
    "\n",
    "Ten notatnik zalicza się do grupy zestawów zadań, na podstawie których odbywa się zaliczenie ćwiczeń i podlega zwrotowi do oceny w ustalonym na zajęciach terminie.\n",
    "\n",
    "Uwagi i wytyczne ogólne dotyczące uzupełniania i oceny notatnika:\n",
    "- Podczas wykonywania zadań należy korzystać wyłącznie z pakietów zaimportowanych na początku notatnika oraz z pakietów wchodzących w skład standardowej biblioteki Pythona, które można zaimportować samodzielnie we wskazanej komórce notatnika.\n",
    "- Swoje rozwiązania należy wprowadzać wyłącznie w miejce następujących fragmentów kodu:<br/> `# YOUR CODE HERE`<br/> `raise NotImplementedError()`<br/> \n",
    "a odpowiedzi tekstowe w komórkach oznaczonych hasłem:<br/> \n",
    "`YOUR ANSWER HERE`<br/> \n",
    "Nie należy w żaden sposób modyfikować pozostałych fragmentów kodu oraz innych elementów notatnika, w szczególności dodawać lub usuwać komórek oraz zmieniać nazwy pliku.\n",
    "- Jeżeli zestaw zadań wymaga skorzystania z fragmentów kodu opracowanego w ramach wcześniejszych zestawów zadań należy je umieścić we wskazanej komórce notatnika.\n",
    "- Otrzymywane wyniki i odpowiedzi mają być rezultatem wykonania napisanego kodu, odpowiedzi uzupełniane manualnie nie podlegają ocenie.\n",
    "- Zawarte w notatniku automatyczne testy mają charakter poglądowy. Dotyczą one wybranych aspektów zadań i mają na celu wyłapać podstawowe błędy. Przejście przez kod wszystkich testów nie oznacza, że zadanie jest wykonane w całości poprawnie i zostanie ocenione na maksymalną liczbę punktów.\n",
    "- Zadania należy wykonać w taki sposób, aby podczas wykonywania kodu nie zostały wyświetlone żadne ostrzeżenia.\n",
    "- Zadania, które powodują wyświetlenie komunikatu o błędzie przerywającym wykonywanie kodu nie podlegają ocenie.\n",
    "\n",
    "Uwagi i wytyczne ogólne dotyczące wizualizacji wyników:\n",
    "- Wszystkie wykresy powinny być wykonane w jednolitym, przejrzystym i czytelnym stylu, posiadać odpowiednio dobrane proporcje i zakresy wartości osi.\n",
    "- Figury powinny mieć ustawione białe tło, tak, aby niezależnie od ustawień notatnika wszystkie elementy wykresów były dobrze widoczne (domyślnie tło jest przeźroczyste co może powodować problemy w notatnikach z ustawionym ciemnym tłem). Rozmiar poziomy figur nie powinien przekraczać 20 cali.\n",
    "- Wykresy oraz ich osie powinny mieć nadane tytuły. Jeżeli w obrębie figury znajduje się więcej niż jeden wykres to figura również powinna mieć nadany tytuł.\n",
    "- Zakresy osi wykresów przedstawiających rozkłady punktów w przestrzeni powinny być docięte do granic obszaru, na którym został wygenerowany proces punktowy.\n",
    "- Proporcje osi wykresów przedstawiających rozkłady punktów w przestrzeni powinny być dobrane tak, aby wykresy odzwierciedlały rzeczywisty rozkład punktów w przestrzeni. Nie należy osiągać tego efektu manipulując rozmiarem całej figury.\n",
    "\n",
    "Przed odesłaniem zestawu zadań do oceny proszę uzupełnić komórkę z danymi autorów rozwiązania (nazwa zespołu oraz imiona, nazwiska i numery indeksów członków zespołu) oraz upewnić się, że notatnik działa zgodnie z oczekiwaniami. W tym celu należy skorzystać z opcji **Restart Kernel and Run All Cells...** dostępnej na górnej belce notatnika pod symbolem $\\blacktriangleright\\blacktriangleright$."
   ]
  },
  {
   "cell_type": "raw",
   "id": "0f2c60aa",
   "metadata": {},
   "source": [
    "Nazwa zespołu: Punkty Refleksji (GIN14)\n",
    "Członkowie: Zuzanna Chaniewska, Zuzanna Dybcio, Michał Janik"
   ]
  },
  {
   "cell_type": "markdown",
   "id": "0bcbd29b",
   "metadata": {
    "deletable": false,
    "editable": false,
    "nbgrader": {
     "cell_type": "markdown",
     "checksum": "eddc8826810e4a6f7bf68319da334bd9",
     "grade": false,
     "grade_id": "cell-109006d425e5cf83",
     "locked": true,
     "schema_version": 3,
     "solution": false,
     "task": false
    },
    "tags": []
   },
   "source": [
    "---"
   ]
  },
  {
   "cell_type": "markdown",
   "id": "d882ae69-936a-49a4-a902-2ae4df2f4d89",
   "metadata": {
    "deletable": false,
    "editable": false,
    "nbgrader": {
     "cell_type": "markdown",
     "checksum": "b3753fdf6156c77646a416f9a2e19e55",
     "grade": false,
     "grade_id": "cell-be413733df21fa86",
     "locked": true,
     "schema_version": 3,
     "solution": false,
     "task": false
    },
    "tags": []
   },
   "source": [
    "## Zestaw zadań 5: Badanie relacji między punktami (część 2)"
   ]
  },
  {
   "cell_type": "code",
   "execution_count": 6,
   "id": "7cfdd3da-1a13-4ed2-bda3-cd76a85ae18f",
   "metadata": {
    "deletable": false,
    "editable": false,
    "nbgrader": {
     "cell_type": "code",
     "checksum": "07631c4e2daf7caf9f0ed9a374bafc99",
     "grade": false,
     "grade_id": "cell-baaf088fa7f91aec",
     "locked": true,
     "schema_version": 3,
     "solution": false,
     "task": false
    },
    "tags": []
   },
   "outputs": [],
   "source": [
    "import numpy as np\n",
    "import pandas as pd\n",
    "import scipy as sp\n",
    "import matplotlib as mpl\n",
    "import matplotlib.pyplot as plt\n",
    "import seaborn as sns"
   ]
  },
  {
   "cell_type": "code",
   "execution_count": 8,
   "id": "ad7830f7-e23d-4f0e-8d49-dc26fa03742d",
   "metadata": {},
   "outputs": [],
   "source": [
    "# Miejsce do importu pakietów wchodzących w skład standardowej biblioteki Pythona oraz ustawienie opcji wykorzystywanych pakietów"
   ]
  },
  {
   "cell_type": "code",
   "execution_count": 10,
   "id": "bf1b648a-9423-4903-8b13-86e1fc38c3a7",
   "metadata": {
    "deletable": false,
    "nbgrader": {
     "cell_type": "code",
     "checksum": "184016de6c951d03ab3f5c1f041015a1",
     "grade": false,
     "grade_id": "cell-a46c08df43df6fd7",
     "locked": false,
     "schema_version": 3,
     "solution": true,
     "task": false
    },
    "tags": []
   },
   "outputs": [],
   "source": [
    "# Miejsce do wklejenie funkcji ze wcześniejszych zestawów zadań\n",
    "# YOUR CODE HERE\n",
    "def homogeneous_poisson_on_rectangle(intensity, x_lim, y_lim):\n",
    "    \"\"\"\n",
    "    Parameters\n",
    "    -------\n",
    "    intensity: float\n",
    "        Liczba dodatnia określająca intensywność procesu punktowego.\n",
    "    x_lim: list\n",
    "        Lista określająca zakres wartości współrzędnej X.\n",
    "        Przykład: [0, 10]\n",
    "    y_lim: list\n",
    "        Lista określająca zakres wartości współrzędnej Y.\n",
    "        Przykład: [0, 10]   \n",
    "    \n",
    "    Returns\n",
    "    -------\n",
    "    points: DataFrame\n",
    "        Tablica zawierająca dwie kolumny ze współrzędnymi punktów opisane jako \"X\" i \"Y\".\n",
    "    \"\"\"\n",
    "    a = (x_lim[1]-x_lim[0])*(y_lim[1]-y_lim[0])  #area\n",
    "    oczekiwane_n = intensity * a\n",
    "    n = np.random.poisson(oczekiwane_n)\n",
    "    \n",
    "    x = sp.stats.uniform.rvs(loc=x_lim[0],scale = (x_lim[1]-x_lim[0]), size = n)\n",
    "    y = sp.stats.uniform.rvs(loc=y_lim[0],scale = (y_lim[1]-y_lim[0]), size = n)\n",
    "    \n",
    "    homogenous_poisson_df = pd.DataFrame({\"X\": x, \"Y\": y})\n",
    "    \n",
    "    return homogenous_poisson_df"
   ]
  },
  {
   "cell_type": "markdown",
   "id": "0ed92c66-bc02-4786-9a35-27bea2f61fb4",
   "metadata": {
    "deletable": false,
    "editable": false,
    "nbgrader": {
     "cell_type": "markdown",
     "checksum": "89f2634471ac4f9acc78ad8ddfd8e1cb",
     "grade": false,
     "grade_id": "cell-bf683202cc9a7b26",
     "locked": true,
     "schema_version": 3,
     "solution": false,
     "task": false
    },
    "tags": []
   },
   "source": [
    "### Wczytanie danych\n",
    "Załączone do notatniki pliki zawierają następujące procesy punktowe:\n",
    " - `points_HP` - jednorodny rozkład Poissona,\n",
    " - `points_R` - rozkład regularny z komponentem losowym,\n",
    " - `points_M` - rozkład Materna,\n",
    "\n",
    "wygenerowane dla zakresu współrzędnych X $[10, 20]$ i Y $[-20, -10]$ oraz dane wykorzystywane w zawartych w notatniku automatycznych testach.\n",
    "\n",
    "W celu wczytania danych do notatnika umieść wszystkie pliki w tym samym folderze, w którym znajduje się notatnik."
   ]
  },
  {
   "cell_type": "code",
   "execution_count": 13,
   "id": "33adaec9-95a2-4f61-8658-259d267aad03",
   "metadata": {
    "deletable": false,
    "editable": false,
    "nbgrader": {
     "cell_type": "code",
     "checksum": "3f37aec077898589dfc213fcb264a8de",
     "grade": false,
     "grade_id": "cell-f4b61e64294f2025",
     "locked": true,
     "schema_version": 3,
     "solution": false,
     "task": false
    },
    "tags": []
   },
   "outputs": [],
   "source": [
    "points_HP = pd.read_pickle('points_HP.pkl')\n",
    "points_R = pd.read_pickle('points_R.pkl')\n",
    "points_M = pd.read_pickle('points_M.pkl')\n",
    "\n",
    "test_data_1 = pd.read_pickle('test_data_1.pkl')\n",
    "test_data_2 = pd.read_pickle('test_data_2.pkl')"
   ]
  },
  {
   "cell_type": "markdown",
   "id": "f76a460b-4f10-446d-b093-61e40b452a7b",
   "metadata": {
    "deletable": false,
    "editable": false,
    "nbgrader": {
     "cell_type": "markdown",
     "checksum": "9a417b8d6ea36eb223ea1f18a4c5d3bc",
     "grade": false,
     "grade_id": "cell-9a00e5c6c5b95972",
     "locked": true,
     "schema_version": 3,
     "solution": false,
     "task": false
    },
    "tags": []
   },
   "source": [
    "### Zadanie 1: Funkcja G (18 pkt)\n",
    "\n",
    "#### a) Przygotowanie funkcji\n",
    "Przygotuj funkcję `g_function()`, która będzie generować dane niezbędne do wykonania wykresu funkcji G analizowanego rozkładu punktów oraz funkcję `g_function_poisson()`, która będzie generować dane niezbędne do wykonania wykresu teoretycznej funkcji G jednorodnego rozkładu Poissona.\n",
    "\n",
    "Algorytm postępowania:\n",
    "- Dla każdego z punktów analizowanego rozkładu wyliczamy dystans do jego najbliższego sąsiada $d_{min}$.\n",
    "- Konstruujemy funkcję G jako dystrybuantę rozkładu odległości: <br/>\n",
    "    $G(d) = \\frac{n_{d_{min} \\le d}}{n}$  <br/>\n",
    "    gdzie: $n_{d_{min} \\le d}$ - liczba punktów, dla których odległość do najbliższego sąsiada $d_{min}$ jest mniejsza lub równa $d$, $n$ - liczba punktów.\n",
    "- Konstruujemy funkcję G jednorodnego rozkładu Poissona daną wzorem:<br/>\n",
    "$G(d) = 1 - exp(-\\lambda \\pi d^2)$<br/>\n",
    "gdzie: $\\lambda$ - intensywność procesu, $d$ - odległość.\n",
    "    \n",
    "Uwagi do wykonania zadania:\n",
    "- Generowane dane powinny zaczynać się od $d=0$ (co może wymagać uzupełnienia danych o 0 w obrębie funkcji `g_function()`) i kończyć na wartości $d$, dla której funkcja G analizowanego rozkładu punktów osiąga wartość 1.\n",
    "- Projektując funkcję `g_function()` uwzględnij fakt, że wiele punktów może mieć najbliższego sąsiada w takiej samej odległości.\n",
    "- W procesie wyliczania dystansów do najbliższego sąsiada należy wykorzystać maksymalnie jedną pętlę `for` iterującą po kolejnych punktach, dla których wyliczamy dystans do ich najbliższego sąsiada. Nie należy korzystać z pętli `for` do wyliczania odległości pomiędzy poszczególnymi parami punktów."
   ]
  },
  {
   "cell_type": "code",
   "execution_count": null,
   "id": "c0758601-b30c-4889-a744-dd161d85b9bf",
   "metadata": {
    "deletable": false,
    "nbgrader": {
     "cell_type": "code",
     "checksum": "cfa758bb692b2c350f4931d75579f253",
     "grade": false,
     "grade_id": "cell-78e7ea53a61f9b34",
     "locked": false,
     "schema_version": 3,
     "solution": true,
     "task": false
    },
    "tags": []
   },
   "outputs": [],
   "source": [
    "def g_function(points):\n",
    "    \"\"\"\n",
    "    Parameters\n",
    "    -------\n",
    "    points: DataFrame\n",
    "        Tablica zawierająca dwie kolumny ze współrzędnymi punktów opisane jako \"X\" i \"Y\".\n",
    "    \n",
    "    Returns\n",
    "    -------\n",
    "    g: DataFrame\n",
    "        Tablica zawierająca dwie kolumny:\n",
    "        - \"D\" - zawierającą unikalne wartości odległości do najbliższego sąsiada uszeregowane od najmniejszej do największej wartości, dla których wyliczone zostały wartości funkcji G,\n",
    "        - \"G\" - zawierającą wyliczone wartości funkcji G.\n",
    "    \"\"\"   \n",
    "    # YOUR CODE HERE\n",
    "    raise NotImplementedError()\n",
    "    \n",
    "def g_function_poisson(d, intensity):\n",
    "    \"\"\"\n",
    "    Parameters\n",
    "    -------\n",
    "    d: array\n",
    "        Macierz zawierająca odległości, dla których ma zostać wyznaczona wartość funkcji G.\n",
    "    intensity: float\n",
    "        Liczba dodatnia określająca intensywność jednorodnego procesu Poissona.\n",
    "    \n",
    "    Returns\n",
    "    -------\n",
    "    g: DataFrame\n",
    "        Tablica zawierająca dwie kolumny:\n",
    "        - \"D\" - zawierającą unikalne wartości odległości do najbliższego sąsiada uszeregowane od najmniejszej do największej wartości, dla których wyliczone zostały wartości funkcji G,\n",
    "        - \"G\" - zawierającą wyliczone wartości funkcji G.\n",
    "    \"\"\"  \n",
    "    # YOUR CODE HERE\n",
    "    raise NotImplementedError()"
   ]
  },
  {
   "cell_type": "code",
   "execution_count": null,
   "id": "500a74e8-229a-4373-a3cd-026ff45609f3",
   "metadata": {
    "deletable": false,
    "editable": false,
    "nbgrader": {
     "cell_type": "code",
     "checksum": "cbfe47ab73edc5024535bf9a292dfdcb",
     "grade": true,
     "grade_id": "cell-6db7f7b4a4976673",
     "locked": true,
     "points": 12,
     "schema_version": 3,
     "solution": false,
     "task": false
    },
    "tags": []
   },
   "outputs": [],
   "source": [
    "# Komórka testowa\n",
    "test_results_1 = g_function(test_data_1)\n",
    "assert type(test_results_1) == pd.DataFrame\n",
    "assert test_results_1.shape == (241, 2)\n",
    "assert list(test_results_1.columns) == [\"D\", \"G\"]\n",
    "assert np.isclose(test_results_1[\"D\"].min(), 0.0)\n",
    "assert np.isclose(test_results_1[\"D\"].max(), 0.7588723960188973)\n",
    "assert np.isclose(test_results_1[\"D\"].mean(), 0.3050733863367381)\n",
    "assert np.isclose(test_results_1[\"G\"].min(), 0.0)\n",
    "assert np.isclose(test_results_1[\"G\"].max(), 1.0)\n",
    "assert np.isclose(test_results_1[\"G\"].mean(), 0.5474945047194762)\n",
    "\n",
    "test_results_2 = g_function_poisson(np.linspace(0, np.max(test_results_1[\"D\"]), 100), 2.5)\n",
    "assert type(test_results_2) == pd.DataFrame\n",
    "assert test_results_2.shape == (100, 2)\n",
    "assert list(test_results_2.columns) == [\"D\", \"G\"]\n",
    "assert np.isclose(test_results_2[\"D\"].min(), 0.0)\n",
    "assert np.isclose(test_results_2[\"D\"].max(), 0.7588723960188973)\n",
    "assert np.isclose(test_results_2[\"D\"].mean(), 0.37943619800944867)\n",
    "assert np.isclose(test_results_2[\"G\"].min(), 0.0)\n",
    "assert np.isclose(test_results_2[\"G\"].max(), 0.9891436854595927)\n",
    "assert np.isclose(test_results_2[\"G\"].mean(), 0.5834922748848472)"
   ]
  },
  {
   "cell_type": "markdown",
   "id": "cc4950d5-9bfb-4a46-a6e2-18d639e42869",
   "metadata": {
    "deletable": false,
    "editable": false,
    "nbgrader": {
     "cell_type": "markdown",
     "checksum": "7c0957ffbad834dd5cb2ed858a11b0c0",
     "grade": false,
     "grade_id": "cell-dbde34f83165003a",
     "locked": true,
     "schema_version": 3,
     "solution": false,
     "task": false
    },
    "tags": []
   },
   "source": [
    "#### b) Wygenerowanie i wizualizacja danych\n",
    "\n",
    "Wykorzystaj przygotowane funkcje do wygnenerowania danych dla wszystkich przygotowanych rozkładów punktów. \n",
    "\n",
    "Przedstaw wyniki analizy graficznie w postaci wykresów liniowych funkcji G przygotowanych rozkładów punktów zestawionych z teoretyczną funkcją G jednorodnego rozkładu Poissona o intensywności $2.5$. Zestaw wyniki na pojedynczej figurze (siatka wykresów 2x3). Umieść analizowane rozkłady punktów w górnym wierszu, a wykresy funkcji G w dolnym wierszu figury. Ustaw identyczne zakresy osi wszystkich trzech wykresów funkcji G."
   ]
  },
  {
   "cell_type": "code",
   "execution_count": null,
   "id": "e22318e9-1bc7-406e-b032-5b20c4858ac1",
   "metadata": {
    "deletable": false,
    "nbgrader": {
     "cell_type": "code",
     "checksum": "18ad9289f7dfed276af5fa8139c24c54",
     "grade": true,
     "grade_id": "cell-7918cfee9051bcb4",
     "locked": false,
     "points": 6,
     "schema_version": 3,
     "solution": true,
     "task": false
    },
    "tags": []
   },
   "outputs": [],
   "source": [
    "# YOUR CODE HERE\n",
    "raise NotImplementedError()"
   ]
  },
  {
   "cell_type": "markdown",
   "id": "27264f13-e275-454d-802b-62a66bff8bac",
   "metadata": {
    "deletable": false,
    "editable": false,
    "nbgrader": {
     "cell_type": "markdown",
     "checksum": "1079ed3048abafa60d0f5f551f09e3c7",
     "grade": false,
     "grade_id": "cell-792b6aca338a7bf5",
     "locked": true,
     "schema_version": 3,
     "solution": false,
     "task": false
    },
    "tags": []
   },
   "source": [
    "### Zadanie 2: Funkcja F (18 pkt)\n",
    "\n",
    "#### a) Przygotowanie funkcji\n",
    "\n",
    "Przygotuj funkcję `f_function()`, która będzie generować dane niezbędne do wykonania wykresu funkcji F analizowanego rozkładu punktów oraz funkcję `f_function_poisson()`, która będzie generować  dane niezbędne do wykonania wykresu teoretycznej funkcji F jednorodnego rozkładu Poissona.\n",
    "\n",
    "Algorytm postępowania:\n",
    "- Z wykorzystaniem procesu regularnego lub jednorodnego procesu Poissona generujemy zestaw punktów pomiarowych dla tego samego zakresu współrzędnych, dla których został wygenerowany analizowany proces.\n",
    "- Dla każdego z punktów rozkładu pomiarowego wyliczamy dystans do jego najbliższego sąsiada z analizowanego rozkładu $d_{min}$.\n",
    "- Konstruujemy funkcję F jako dystrybuantę rozkładu odległości: <br/>\n",
    "    $F(d) = \\frac{n_{d_{min} \\le d}}{n}$  <br/>\n",
    "    gdzie: $n_{d_{min} \\le d}$ - liczba punktów rozkładu pomiarowego, dla których odległość do najbliższego sąsiada z analizowanego rozkładu $d_{min}$ jest mniejsza lub równa $d$, $n$ - liczba punktów rozkładu pomiarowego.\n",
    "- Konstruujemy funkcję F jednorodnego rozkładu Poissona daną wzorem:<br/>\n",
    "$F(d) = 1 - exp(-\\lambda \\pi d^2)$ <br/>\n",
    "gdzie: $\\lambda$ - intensywność procesu, $d$ - odległość.\n",
    "    \n",
    "Uwagi do wykonania zadania:\n",
    "- Generowane dane powinny zaczynać się od $d=0$ (co może wymagać uzupełnienia danych o 0 w obrębie funkcji `f_function()`) i kończyć na wartości $d$, dla której funkcja F analizowanego rozkładu punktów osiąga wartość 1.\n",
    "- Projektując funkcję `f_function()` uwzględnij fakt, że wiele punktów może mieć najbliższego sąsiada w takiej samej odległości.\n",
    "- W procesie wyliczania dystansów do najbliższego sąsiada należy wykorzystać maksymalnie jedną pętlę `for` iterującą po kolejnych punktach, dla których wyliczamy dystans do ich najbliższego sąsiada. Nie należy korzystać z pętli `for` do wyliczania odległości pomiędzy poszczególnymi parami punktów.\n",
    "- W części zadania dotyczącej generowania rozkładu pomiarowego nie należy pisać kodu od podstaw, a jedynie skorzystać z przygotowanej wcześniej funkcji `regular_on_rectangle()` lub `homogeneous_poisson_on_rectangle()`, którą można wkleić we wskazanej komórce na początku notatnika."
   ]
  },
  {
   "cell_type": "code",
   "execution_count": 20,
   "id": "0506d116-9973-4220-9584-8ea67ed64c87",
   "metadata": {
    "deletable": false,
    "nbgrader": {
     "cell_type": "code",
     "checksum": "1ac92014a8434bbcc47108a3a2398d20",
     "grade": false,
     "grade_id": "cell-4124abb5448e69f9",
     "locked": false,
     "schema_version": 3,
     "solution": true,
     "task": false
    },
    "tags": []
   },
   "outputs": [
    {
     "data": {
      "text/html": [
       "<div>\n",
       "<style scoped>\n",
       "    .dataframe tbody tr th:only-of-type {\n",
       "        vertical-align: middle;\n",
       "    }\n",
       "\n",
       "    .dataframe tbody tr th {\n",
       "        vertical-align: top;\n",
       "    }\n",
       "\n",
       "    .dataframe thead th {\n",
       "        text-align: right;\n",
       "    }\n",
       "</style>\n",
       "<table border=\"1\" class=\"dataframe\">\n",
       "  <thead>\n",
       "    <tr style=\"text-align: right;\">\n",
       "      <th></th>\n",
       "      <th>D</th>\n",
       "      <th>F</th>\n",
       "    </tr>\n",
       "  </thead>\n",
       "  <tbody>\n",
       "    <tr>\n",
       "      <th>0</th>\n",
       "      <td>0.000000</td>\n",
       "      <td>0.000000</td>\n",
       "    </tr>\n",
       "    <tr>\n",
       "      <th>1</th>\n",
       "      <td>0.009804</td>\n",
       "      <td>0.000755</td>\n",
       "    </tr>\n",
       "    <tr>\n",
       "      <th>2</th>\n",
       "      <td>0.019608</td>\n",
       "      <td>0.003015</td>\n",
       "    </tr>\n",
       "    <tr>\n",
       "      <th>3</th>\n",
       "      <td>0.029412</td>\n",
       "      <td>0.006771</td>\n",
       "    </tr>\n",
       "    <tr>\n",
       "      <th>4</th>\n",
       "      <td>0.039216</td>\n",
       "      <td>0.012006</td>\n",
       "    </tr>\n",
       "    <tr>\n",
       "      <th>...</th>\n",
       "      <td>...</td>\n",
       "      <td>...</td>\n",
       "    </tr>\n",
       "    <tr>\n",
       "      <th>95</th>\n",
       "      <td>0.931379</td>\n",
       "      <td>0.998901</td>\n",
       "    </tr>\n",
       "    <tr>\n",
       "      <th>96</th>\n",
       "      <td>0.941183</td>\n",
       "      <td>0.999048</td>\n",
       "    </tr>\n",
       "    <tr>\n",
       "      <th>97</th>\n",
       "      <td>0.950987</td>\n",
       "      <td>0.999177</td>\n",
       "    </tr>\n",
       "    <tr>\n",
       "      <th>98</th>\n",
       "      <td>0.960791</td>\n",
       "      <td>0.999290</td>\n",
       "    </tr>\n",
       "    <tr>\n",
       "      <th>99</th>\n",
       "      <td>0.970595</td>\n",
       "      <td>0.999388</td>\n",
       "    </tr>\n",
       "  </tbody>\n",
       "</table>\n",
       "<p>100 rows × 2 columns</p>\n",
       "</div>"
      ],
      "text/plain": [
       "           D         F\n",
       "0   0.000000  0.000000\n",
       "1   0.009804  0.000755\n",
       "2   0.019608  0.003015\n",
       "3   0.029412  0.006771\n",
       "4   0.039216  0.012006\n",
       "..       ...       ...\n",
       "95  0.931379  0.998901\n",
       "96  0.941183  0.999048\n",
       "97  0.950987  0.999177\n",
       "98  0.960791  0.999290\n",
       "99  0.970595  0.999388\n",
       "\n",
       "[100 rows x 2 columns]"
      ]
     },
     "execution_count": 20,
     "metadata": {},
     "output_type": "execute_result"
    }
   ],
   "source": [
    "def f_function(points, test_points):\n",
    "    \"\"\"\n",
    "    Parameters\n",
    "    -------\n",
    "    points: DataFrame\n",
    "        Tablica zawierająca dwie kolumny ze współrzędnymi punktów analizowanego rozkłądu opisane jako \"X\" i \"Y\".\n",
    "    test_points: DataFrame\n",
    "        Tablica zawierająca dwie kolumny ze współrzędnymi punktów pomiarowych, dla których mają zostać wyznaczone odległości\n",
    "        do najbliższego sąsiada z analizowanego rozkładu opisane jako \"X\" i \"Y\".\n",
    "    \n",
    "    Returns\n",
    "    -------\n",
    "    f: DataFrame\n",
    "        Tablica zawierająca dwie kolumny:\n",
    "        - \"D\" - zawierającą unikalne wartości odległości do najbliższego sąsiada uszeregowane od najmniejszej do największej wartości, dla których wyliczone zostały wartości funkcji F,\n",
    "        - \"F\" - zawierającą wyliczone wartości funkcji F.\n",
    "    \"\"\"   \n",
    "    #print(np.shape(points))\n",
    "    #print(np.shape(test_points))\n",
    "    array_distances = sp.spatial.distance.cdist(points, test_points)\n",
    "    #print(np.shape(array_distances))\n",
    "    d_min = np.min(array_distances, axis=0)\n",
    "    #print(np.shape(d_min))\n",
    "    d_min.sort()\n",
    "    #print(d_min)\n",
    "    d_min_unique = np.unique(d_min)\n",
    "    #print(np.size(d_min_unique))\n",
    "    f_d = []\n",
    "    for argument in d_min_unique:\n",
    "        f_d = np.append(f_d, sum(d_min <= argument) / len(d_min))\n",
    "    \n",
    "    if d_min_unique[0] != 0:\n",
    "        d_min_unique = np.insert(d_min_unique, 0, 0)\n",
    "        f_d = np.insert(f_d, 0, 0)\n",
    "    f = pd.DataFrame({\"D\":d_min_unique, \"F\":f_d})\n",
    "    \n",
    "    return f\n",
    "    \n",
    "def f_function_poisson(d, intensity):\n",
    "    \"\"\"\n",
    "    Parameters\n",
    "    -------\n",
    "    d: array\n",
    "        Macierz zawierająca odległości, dla których ma zostać wyznaczona wartość funkcji F.\n",
    "    intensity: float\n",
    "        Liczba dodatnia określająca intensywność jednorodnego procesu Poissona.\n",
    "\n",
    "    Returns\n",
    "    -------\n",
    "    f: DataFrame\n",
    "        Tablica zawierająca dwie kolumny:\n",
    "        - \"D\" - zawierającą unikalne wartości odległości do najbliższego sąsiada uszeregowane od najmniejszej do największej wartości, dla których wyliczone zostały wartości funkcji F,\n",
    "        - \"F\" - zawierającą wyliczone wartości funkcji F.\n",
    "    \"\"\"  \n",
    "    f_d_p = 1 - np.exp((-1) * intensity * np.pi * np.square(d))\n",
    "    f = pd.DataFrame({\"D\":d, \"F\":f_d_p})\n",
    "    \n",
    "    return f\n",
    "    \n",
    "test_results_3 = f_function(test_data_1, test_data_2)\n",
    "f_function_poisson(np.linspace(0, np.max(test_results_3[\"D\"]), 100), 2.5)"
   ]
  },
  {
   "cell_type": "code",
   "execution_count": 22,
   "id": "88052c56-c842-43b3-8081-7a4c23e14abb",
   "metadata": {
    "deletable": false,
    "editable": false,
    "nbgrader": {
     "cell_type": "code",
     "checksum": "23fe324fc2d2d1fa79e7c292ae2ed315",
     "grade": true,
     "grade_id": "cell-68ac70b0f54a9745",
     "locked": true,
     "points": 12,
     "schema_version": 3,
     "solution": false,
     "task": false
    },
    "tags": []
   },
   "outputs": [],
   "source": [
    "# Komórka testowa           \n",
    "test_results_3 = f_function(test_data_1, test_data_2)\n",
    "assert type(test_results_3) == pd.DataFrame\n",
    "assert test_results_3.shape == (361, 2)\n",
    "assert list(test_results_3.columns) == [\"D\", \"F\"]\n",
    "assert np.isclose(test_results_3[\"D\"].min(), 0.0)\n",
    "assert np.isclose(test_results_3[\"D\"].max(), 0.9705949267845364)\n",
    "assert np.isclose(test_results_3[\"D\"].mean(), 0.28619986281302456)\n",
    "assert np.isclose(test_results_3[\"F\"].min(), 0.0)\n",
    "assert np.isclose(test_results_3[\"F\"].max(), 1.0)\n",
    "assert np.isclose(test_results_3[\"F\"].mean(), 0.5147368421052632)\n",
    "\n",
    "test_results_4 = f_function_poisson(np.linspace(0, np.max(test_results_3[\"D\"]), 100), 2.5)\n",
    "assert type(test_results_4) == pd.DataFrame\n",
    "assert test_results_4.shape == (100, 2)\n",
    "assert list(test_results_4.columns) == [\"D\", \"F\"]\n",
    "assert np.isclose(test_results_4[\"D\"].min(), 0.0)\n",
    "assert np.isclose(test_results_4[\"D\"].max(), 0.9705949267845364)\n",
    "assert np.isclose(test_results_4[\"D\"].mean(), 0.4852974633922682)\n",
    "assert np.isclose(test_results_4[\"F\"].min(), 0.0)\n",
    "assert np.isclose(test_results_4[\"F\"].max(), 0.9993880615391438)\n",
    "assert np.isclose(test_results_4[\"F\"].mean(), 0.6724855209770033)"
   ]
  },
  {
   "cell_type": "markdown",
   "id": "3f4b235e-3d2b-4bbe-853c-5a2460505ad2",
   "metadata": {
    "deletable": false,
    "editable": false,
    "nbgrader": {
     "cell_type": "markdown",
     "checksum": "baa33ec6b2fbf7e5a3647e3ba9e38b21",
     "grade": false,
     "grade_id": "cell-f5e429399234f312",
     "locked": true,
     "schema_version": 3,
     "solution": false,
     "task": false
    },
    "tags": []
   },
   "source": [
    "#### b) Wygenerowanie i wizualizacja danych\n",
    "\n",
    "Wykorzystaj przygotowane funkcje do wygnenerowania danych dla wszystkich przygotowanych rozkładów punktów. \n",
    "\n",
    "Przedstaw wyniki analizy graficznie w postaci wykresów liniowych funkcji F przygotowanych rozkładów punktów zestawionych z teoretyczną funkcją F jednorodnego rozkładu Poissona o intensywności $2.5$. Zestaw wyniki na pojedynczej figurze (siatka wykresów 2x3). Umieść analizowane rozkłady punktów w górnym wierszu, a wykresy funkcji F w dolnym wierszu figury. Ustaw identyczne zakresy osi wszystkich trzech wykresów funkcji F.\n",
    "\n",
    "Uwagi do wykonania zadania:\n",
    "- Liczba punktów rozkładu pomiarowego jest istotna i wpływa na dokładność rozwiązania."
   ]
  },
  {
   "cell_type": "code",
   "execution_count": 55,
   "id": "c4f3d4ae-6ed8-4fe7-a753-36fd2ee43dee",
   "metadata": {
    "deletable": false,
    "nbgrader": {
     "cell_type": "code",
     "checksum": "505b415159f451014e2a115795d02b7c",
     "grade": true,
     "grade_id": "cell-3b3177d764da72b8",
     "locked": false,
     "points": 6,
     "schema_version": 3,
     "solution": true,
     "task": false
    },
    "tags": []
   },
   "outputs": [
    {
     "data": {
      "image/png": "[encoded data removed]",
      "text/plain": [
       "<Figure size 1500x1000 with 6 Axes>"
      ]
     },
     "metadata": {},
     "output_type": "display_data"
    }
   ],
   "source": [
    "f_HP = f_function(points_HP, test_data_1)\n",
    "f_R = f_function(points_R, test_data_1)\n",
    "f_M = f_function(points_M, test_data_1)\n",
    "\n",
    "d_values = np.linspace(0, max(f_HP['D'].max(), f_R['D'].max(), f_M['D'].max()), 100)\n",
    "f_poisson = f_function_poisson(d_values, 2.5)\n",
    "\n",
    "fig, axes = plt.subplots(2, 3, figsize=(15, 10))\n",
    "axes = axes.ravel()\n",
    "\n",
    "axes[0].scatter(points_HP['X'], points_HP['Y'], s=2, color = \"blue\")\n",
    "axes[0].set_title(\"Jednorodny rozkład Poissona\")\n",
    "axes[0].set_xlabel(\"X\")\n",
    "axes[0].set_ylabel(\"Y\")\n",
    "\n",
    "axes[1].scatter(points_R['X'], points_R['Y'], s=2, color = \"indigo\")\n",
    "axes[1].set_title(\"Rozkład regularny z komponentem losowym\")\n",
    "axes[1].set_xlabel(\"X\")\n",
    "axes[1].set_ylabel(\"Y\")\n",
    "\n",
    "axes[2].scatter(points_M['X'], points_M['Y'], s=2, color = \"darkslateblue\")\n",
    "axes[2].set_title(\"Rozkład Materna\")\n",
    "axes[2].set_xlabel(\"X\")\n",
    "axes[2].set_ylabel(\"Y\")\n",
    "\n",
    "axes[3].plot(f_HP[\"D\"], f_HP[\"F\"], label=\"F (HP)\", color=\"blue\")\n",
    "axes[3].plot(f_poisson[\"D\"], f_poisson[\"F\"], label=\"F (Poisson)\", linestyle=\"dashed\", color=\"red\")\n",
    "axes[3].set_title(\"F dla jednorodnego rozkładu Poissona\")\n",
    "axes[3].set_xlabel(\"D\")\n",
    "axes[3].set_ylabel(\"F(D)\")\n",
    "axes[3].legend()\n",
    "axes[3].set_xlim([0, d_values.max()])\n",
    "axes[3].set_ylim([0, 1])\n",
    "\n",
    "axes[4].plot(f_R[\"D\"], f_R[\"F\"], label=\"F (R)\", color=\"green\")\n",
    "axes[4].plot(f_poisson[\"D\"], f_poisson[\"F\"], label=\"F (Poisson)\", linestyle=\"dashed\", color=\"red\")\n",
    "axes[4].set_title(\"F dla rozkładu regularnego z komponentem losowym\")\n",
    "axes[4].set_xlabel(\"D\")\n",
    "axes[4].set_ylabel(\"F(D)\")\n",
    "axes[4].legend()\n",
    "axes[4].set_xlim([0, d_values.max()])\n",
    "axes[4].set_ylim([0, 1])\n",
    "\n",
    "axes[5].plot(f_M[\"D\"], f_M[\"F\"], label=\"F (M)\", color=\"purple\")\n",
    "axes[5].plot(f_poisson[\"D\"], f_poisson[\"F\"], label=\"F (Poisson)\", linestyle=\"dashed\", color=\"red\")\n",
    "axes[5].set_title(\"F dla rozkładu Materna\")\n",
    "axes[5].set_xlabel(\"D\")\n",
    "axes[5].set_ylabel(\"F(D)\")\n",
    "axes[5].legend()\n",
    "axes[5].set_xlim([0, d_values.max()])\n",
    "axes[5].set_ylim([0, 1])\n",
    "\n",
    "plt.tight_layout()\n",
    "plt.show()"
   ]
  },
  {
   "cell_type": "code",
   "execution_count": null,
   "id": "f6f736e7-50cf-41ad-8fe3-ee295df556ff",
   "metadata": {},
   "outputs": [],
   "source": []
  }
 ],
 "metadata": {
  "kernelspec": {
   "display_name": "Python 3 (ipykernel)",
   "language": "python",
   "name": "python3"
  },
  "language_info": {
   "codemirror_mode": {
    "name": "ipython",
    "version": 3
   },
   "file_extension": ".py",
   "mimetype": "text/x-python",
   "name": "python",
   "nbconvert_exporter": "python",
   "pygments_lexer": "ipython3",
   "version": "3.12.4"
  }
 },
 "nbformat": 4,
 "nbformat_minor": 5
}
